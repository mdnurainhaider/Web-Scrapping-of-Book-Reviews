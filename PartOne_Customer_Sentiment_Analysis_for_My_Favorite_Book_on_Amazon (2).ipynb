{
  "nbformat": 4,
  "nbformat_minor": 0,
  "metadata": {
    "colab": {
      "provenance": []
    },
    "kernelspec": {
      "name": "python3",
      "display_name": "Python 3"
    },
    "language_info": {
      "name": "python"
    }
  },
  "cells": [
    {
      "cell_type": "markdown",
      "source": [
        "# Problem Statement\n",
        "This project aims to document the challenges, errors, and trial-and-error experiences encountered during the process of developing a data scraping and sentiment analysis project. By sharing these insights, the project seeks to provide guidance and solutions for fellow coders facing similar hurdles in their endeavors.\n",
        "\n",
        "Additionally, for e-commerce companies striving to enhance customer satisfaction through a deeper understanding of customer sentiments expressed in reviews, this notebook serves as a valuable resource. By identifying the pivotal factors influencing both positive and negative sentiments, the project offers actionable insights to refine products and services, ultimately fostering a more satisfying customer experience."
      ],
      "metadata": {
        "id": "42ec8NrzeFvf"
      }
    },
    {
      "cell_type": "markdown",
      "source": [
        "# Project Scenario\n",
        "Recently, I finished reading the life-changing book \"**Atomic Habits**\" by James Clear. As this book significantly altered my daily life, work habits, and ability to build positive routines, I became curious about others' perspectives. After searching online, I found the book on **Amazon** and noticed a mix of reviews from readers. Inspired by this, I devised a plan to **scrape these reviews, analyze the sentiments expressed by customers, and identify the factors influencing both positive and negative feedback.**"
      ],
      "metadata": {
        "id": "lI3_NWfekhCL"
      }
    },
    {
      "cell_type": "markdown",
      "source": [
        "# Project Goal\n",
        "- Analyze customer sentiment from e-commerce website (Amazon) reviews to understand factors driving feedback.\n",
        "- Provide insights into customer preferences and concerns for data driven decision-making."
      ],
      "metadata": {
        "id": "5-YRWsPfkv4t"
      }
    },
    {
      "cell_type": "markdown",
      "source": [
        "## Deliverables/ Steps to Complete the Project\n",
        "- **Data Collection**: extract customer reviews and additional data from popular e-commerce websites.\n",
        "- **Data Cleaning & Preprocessing:** Handle missing values, duplicates, and irrelevant features; perform text preprocessing tasks.\n",
        "- **Sentiment Analysis:** Analyze sentiment using NLP techniques.\n",
        "- **Feature Engineering**: Extract features from text data and incorporate additional features.\n",
        "- **Machine Learning Modeling**: Build models to predict sentiment.\n",
        "- **Data Visualization and Interpretation:** Visualize sentiment analysis results and feature importance.\n",
        "- **Solution and Recommendations:** Summarize findings and provide actionable recommendations."
      ],
      "metadata": {
        "id": "ojnN8_XPk2ep"
      }
    },
    {
      "cell_type": "markdown",
      "source": [
        "# Stakeholders: (For whoom is the CUSTOMER SENTIMENT ANALYSIS?)\n",
        "\n",
        "1. **Retailers**: Whether it's on Amazon, Flipkart, or Shopify, retailers can benefit greatly from understanding customer sentiments. By learning from this project, they can refine their product offerings and marketing strategies to create happier customers and drive more sales.\n",
        "\n",
        "2. **Authors & Publishers**: Understanding how readers feel about their work is vital for authors and publishers. By uncovering insights from customer sentiments, they can improve future books, connect better with their audience, and boost sales and loyalty.\n",
        "\n",
        "3. **Data Enthusiasts**: Scraping Amazon reviews was no easy feat, and I realized there's a lack of accessible tutorials out there. So, I'm creating a comprehensive guide to help others navigate through similar challenges and empower fellow data enthusiasts in their projects."
      ],
      "metadata": {
        "id": "n43T4ewhlOZJ"
      }
    },
    {
      "cell_type": "markdown",
      "source": [
        "# PART ONE: Data Scraping"
      ],
      "metadata": {
        "id": "ivvx2sB8ljFq"
      }
    },
    {
      "cell_type": "markdown",
      "source": [
        "**What are the available ways to Scrape data?**\n",
        "\n",
        "- I used **BeautifulSoup** in this project. It is the most popular package in python used to parse HTML & XML data.\n",
        "- **Scrapy**: Scrapy is a powerful and flexible framework for web scraping in Python.\n",
        "- **Selenium**: a popular tool, Selenium is particularly useful for scraping websites that use JavaScript to generate content dynamically.\n",
        "- **Puppeteer** (for JavaScript): provides a high-level API for controlling headless Chrome or Chromium browsers. It can be used for tasks such as web scraping, automated testing, and generating screenshots of web pages.\n",
        "- **APIs**: Some websites offer APIs (Application Programming Interfaces) that allow developers to access data in a structured format without needing to scrape HTML.\n",
        "- **Commercial scraping tools**: Tools such as Mozenda, ParseHub, and Content Grabber, which offer features like point-and-click interfaces, scheduling, and data export options.\n",
        "- **Autoparser**: automate web scrapping\n",
        "- **Octoparse**: an easy tool to use without any coding\n",
        "- **AI tools**: If you're using Chatgpt 4, you can simply upload the Amazon HTML file and give a prompt, it will do the work for you.\n",
        "- and many more!!!!\n",
        "\n",
        "Now, it's your choice to get your hands dirty with some coding or let tools work for you.... :)"
      ],
      "metadata": {
        "id": "E8nl28_8mTQ1"
      }
    },
    {
      "cell_type": "markdown",
      "source": [
        "### Task 1: Data Collection\n",
        "- Extract Customer Reviews and additional data from Amazon"
      ],
      "metadata": {
        "id": "Do8unVRql9RY"
      }
    },
    {
      "cell_type": "markdown",
      "source": [
        "**Imports**\n",
        "\n",
        "For the data scraping phase, we import numpy and pandas for data manipulation, BeautifulSoup for HTML parsing, requests for fetching web pages, sys for system-related tasks, and html for handling HTML-specific operations.  These libraries collectively provide the necessary tools to efficiently extract and manipulate data from web sources for further analysis."
      ],
      "metadata": {
        "id": "MvJ2YmzQm0Tm"
      }
    },
    {
      "cell_type": "code",
      "execution_count": null,
      "metadata": {
        "id": "Po8KS1LvTls0"
      },
      "outputs": [],
      "source": [
        "# Imports\n",
        "# Imports for data manipulation\n",
        "import numpy as np\n",
        "import pandas as pd\n",
        "\n",
        "# Imports for web-scrapping\n",
        "from bs4 import BeautifulSoup\n",
        "\n",
        "# Imports for Making HTTP requests\n",
        "import sys, requests, html\n"
      ]
    },
    {
      "cell_type": "markdown",
      "source": [
        "We begin by specifying the URL of the website containing the Amazon reviews for \"Atomic Habits\" book. The headers are set up to mimic a regular web browser, making the request look genuine and avoiding any website restrictions. They also specify how the response data should be encoded and what type of content is expected for easy handling. With these preparations, we make an HTTP GET request to fetch the web page data using the requests library.\n",
        "\n",
        "A special note: To get your header data, go to this website: https://httpbin.org/get"
      ],
      "metadata": {
        "id": "yTxry10Joi5G"
      }
    },
    {
      "cell_type": "code",
      "source": [
        "# URL of the website\n",
        "URL = 'https://www.amazon.com/Atomic-Habits-James-Clear-audiobook/product-reviews/B07RFSSYBH/ref=cm_cr_dp_d_show_all_btm?ie=UTF8&reviewerType=all_reviews'\n",
        "\n",
        "# Specify Headers\n",
        "headers = {\"User-Agent\": \"Mozilla/5.0 (Windows NT 10.0; Win64; x64) AppleWebKit/537.36 (KHTML, like Gecko) Chrome/121.0.0.0 Safari/537.36\",\n",
        "          \"Accept-Encoding\": \"gzip, deflate, br, zstd\",\n",
        "          \"Accept\": \"text/html,application/xhtml+xml,application/xml;q=0.9,image/avif,image/webp,image/apng,*/*;q=0.8,application/signed-exchange;v=b3;q=0.7\",\n",
        "          \"DNT\":\"1\",\"Connection\":\"close\", \"Upgrade-Insecure-Requests\":\"1\"}\n",
        "\n",
        "# Bring the data\n",
        "page = requests.get(URL, headers = headers)\n",
        "page"
      ],
      "metadata": {
        "colab": {
          "base_uri": "https://localhost:8080/"
        },
        "id": "eoegXO58VRVd",
        "outputId": "f1c76272-1399-4a2d-c3e3-c2025450d9a9"
      },
      "execution_count": null,
      "outputs": [
        {
          "output_type": "execute_result",
          "data": {
            "text/plain": [
              "<Response [200]>"
            ]
          },
          "metadata": {},
          "execution_count": 3
        }
      ]
    },
    {
      "cell_type": "markdown",
      "source": [
        "The `<Response [200]>` printed above means that the HTTP GET request to the specified URL was successful, and the server responded with a status code of 200. This is the first **metric** to see if you're going in the right track or not. If you get the following responses:\n",
        "- <Response [404]>: the requested resource was not found on the server (404 Not Found).\n",
        "- <Response [403]>: access to the requested resource is forbidden (403 Forbidden).\n",
        "- <Response [500]>: an internal server error occurred while processing the request (500 Internal Server Error).\n",
        "- <Response [408]>: the server timed out while waiting for the request (408 Request Timeout).\n",
        "\n",
        "\n",
        "Then, you should:\n",
        "1. **Check URL**: Verify correct webpage address.\n",
        "  \n",
        "2. **Inspect Headers**: Review and adjust request headers.\n",
        "  \n",
        "3. **Ensure Connectivity**: Confirm stable internet connection.\n",
        "  \n",
        "4. **Review Documentation**: Refer server error messages.\n",
        "  \n",
        "5. **Implement Error Handling**: Use try-except blocks for errors.\n",
        "  \n",
        "6. **Retry Mechanism**: Consider retrying failed requests.\n",
        "  \n",
        "7. **Contact Support**: Seek assistance if issues persist."
      ],
      "metadata": {
        "id": "rTolv7ClooKg"
      }
    },
    {
      "cell_type": "code",
      "source": [
        "# use beautiful soup to parse the data from page\n",
        "soup = BeautifulSoup(page.content, \"html.parser\")\n",
        "\n",
        "# get an idea of what is the size of the Soup1 in bytes\n",
        "sys.getsizeof(soup)"
      ],
      "metadata": {
        "colab": {
          "base_uri": "https://localhost:8080/"
        },
        "id": "odTHwPQeV1ps",
        "outputId": "8fe441b4-bb98-4d02-e674-3ff378fdda81"
      },
      "execution_count": null,
      "outputs": [
        {
          "output_type": "execute_result",
          "data": {
            "text/plain": [
              "48"
            ]
          },
          "metadata": {},
          "execution_count": 5
        }
      ]
    },
    {
      "cell_type": "markdown",
      "source": [
        "**LET'S SEE if our fetched page source html matches our destination source format or not!**"
      ],
      "metadata": {
        "id": "TO62Rit3q7eu"
      }
    },
    {
      "cell_type": "markdown",
      "source": [
        "We use **BeautifulSoup** now to parse the webpage data obtained from the HTTP GET request, converting it into a structured format and saved it in  `soup` variable. Then, we run the sys.getsizeof() function to check the size of the soup, it is 48 **bytes** only."
      ],
      "metadata": {
        "id": "-KwPNyzfo4OX"
      }
    },
    {
      "cell_type": "code",
      "source": [
        "# Let's see what is the parsed soup is about\n",
        "# print(soup) - we commented it because it prints the whole page html content which is too long. To run, just remove # and run the print function"
      ],
      "metadata": {
        "id": "PswIhTGjf5yf"
      },
      "execution_count": null,
      "outputs": []
    },
    {
      "cell_type": "markdown",
      "source": [
        "If we closely monitor some of the tags and text, we can verify that the parser could parse HTML data from the website."
      ],
      "metadata": {
        "id": "rrhxNKByreLQ"
      }
    },
    {
      "cell_type": "markdown",
      "source": [
        "Next, we improve the formatting of the parsed data using the **prettify()** method, which enhances readability by structuring the HTML content in a more organized manner."
      ],
      "metadata": {
        "id": "M9ZZQtBkrrym"
      }
    },
    {
      "cell_type": "markdown",
      "source": [
        "> Let's see if we can extract our Book Title.\n",
        "To extract this, access the title tag within the prettified HTML content using `soup2.title`, which returns the title along with HTML tags.\n",
        "\n",
        "> To obtain only the text content of the title without HTML tags, we use `.text.strip()` method. The resulting `title` variable contains the title of the webpage as a string. Finally, we print the title and its data type.\n",
        "\n"
      ],
      "metadata": {
        "id": "Gc74ROAPsVqL"
      }
    },
    {
      "cell_type": "code",
      "source": [
        "# get the title\n",
        "# soup2.title prints the title with the html tags which we need to get rid of\n",
        "title = soup2.title.text.strip()\n",
        "print(title)\n",
        "print(type(title))"
      ],
      "metadata": {
        "colab": {
          "base_uri": "https://localhost:8080/"
        },
        "id": "FPi_DICGVTai",
        "outputId": "35579d1c-373f-4811-cc92-96655820db73"
      },
      "execution_count": null,
      "outputs": [
        {
          "output_type": "stream",
          "name": "stdout",
          "text": [
            "Amazon.com: Customer reviews: Atomic Habits: An Easy &amp; Proven Way to Build Good Habits &amp; Break Bad Ones\n",
            "<class 'str'>\n"
          ]
        }
      ]
    },
    {
      "cell_type": "code",
      "source": [
        "# prettify makes the data a little bit better formatted\n",
        "soup2 = BeautifulSoup(soup.prettify(), \"html.parser\")"
      ],
      "metadata": {
        "id": "6J_7gOLDfbU7"
      },
      "execution_count": null,
      "outputs": []
    },
    {
      "cell_type": "code",
      "source": [
        "# Let's work on the Fetched Title and make it better\n",
        "\n",
        "# Selecting parts from the third part onwards\n",
        "main_title_parts = title.split(\":\")[1:] # [2:] that gives only the book title\n",
        "print(main_title_parts)\n",
        "\n",
        "# Joining the parts with \":\" and stripping with whitespace\n",
        "main_title = \":\".join(main_title_parts).strip()\n",
        "print(main_title)\n",
        "\n",
        "# Unescaping HTML entities\n",
        "main_title = html.unescape(main_title)\n",
        "\n",
        "print(\"Main Title:\", main_title)\n"
      ],
      "metadata": {
        "colab": {
          "base_uri": "https://localhost:8080/"
        },
        "id": "Zp4kp5WKWTvc",
        "outputId": "a3dac95a-3856-468e-b5ef-85ab76a988b4"
      },
      "execution_count": null,
      "outputs": [
        {
          "output_type": "stream",
          "name": "stdout",
          "text": [
            "[' Customer reviews', ' Atomic Habits', ' An Easy &amp; Proven Way to Build Good Habits &amp; Break Bad Ones']\n",
            "Customer reviews: Atomic Habits: An Easy &amp; Proven Way to Build Good Habits &amp; Break Bad Ones\n",
            "Main Title: Customer reviews: Atomic Habits: An Easy & Proven Way to Build Good Habits & Break Bad Ones\n"
          ]
        }
      ]
    },
    {
      "cell_type": "markdown",
      "source": [
        "You can also fetch and work with the tags such as '**a-profile-name**' to get the names of the reviews but then it is a **matter of fetching personal information and ethical concern**. We do not need this. So, we directly work on fetching the reviews only. But feel free to play with tags and get **review-stars, review-title,** etc."
      ],
      "metadata": {
        "id": "wGQD_w5PuEO2"
      }
    },
    {
      "cell_type": "markdown",
      "source": [
        "We will get the Review Titles of the First page.\n",
        "\n",
        " ![image.png](data:image/png;base64,iVBORw0KGgoAAAANSUhEUgAAAroAAABmCAYAAAAknjJkAAAAAXNSR0IArs4c6QAAAARnQU1BAACxjwv8YQUAAAAJcEhZcwAADsMAAA7DAcdvqGQAAE7TSURBVHhe7Z0NXBVV/v8/PiAo2gVN0KxQW6FS8SGFSqVsBfutoq4GbgpqJtYm9KBoD6L+SuxBSX8JtpuoZWj/FGtNbDew9QEtE9oU1BIoAQvXi6mQAhcR5/89M+dyH7h37twLluF5v17DnTln5pzv+Z7v98x3Zs4MkJxkX/Y+adCQwdLgoCHSgMEDpf4D+tPSV+rX/y7p7r7+Ur9+AdJAWsaPCJTmTvmT9HC/W6URPTylFyY+JCXPeVTKWPG89OXG5dLe9YnS5+uWStkfbZTmPhEt3e1/u9T91pslv4DbJL8+PaSed3SXevfuIfXu5SdlfpbJa3eeM9umSboZ6dIZvi1zKU9aO2OgpLsnTAoPHSj5j0uQMkt5Xlm6FOU9TdpaxrelHGmFt7e0IpdvSnpp6wxvKWqbnm/bokR6f6K3pItIozVzSqTMheMl/4BgKXzieCn8/oFS0Nt5ck5jOVm9RjkM0qHlYZKOHTcuTAqdlSKtmBdgJkOFlPk8tYfk1HnHSDvkZLO6xgVL/vdMk9bmG+S9Jf0OaZZFG42Q3BG22ybLJ7fHeVnU20Y41R+NqclPlaLu8ZYCQ8dLofcESOELs8z0bt1/1ij5irxsCZCCHk2QthZyXVFJW58M4LKFSRGLU6SlpCNjeYeW0zHLc5QNmcb1ye232McMkj08QKnbfyWzBcfHl/wrgY4hOceRDVHfBt6fIilWZI59Oy3Z/rQUKNsg9d8M6r9nzOujvhhH7WW6CEiiLb2040l79q7mC/ZtXTXvErVfrn8gtStYmrV4vhThnSQdUnJt0ti+GI70qCafOawc+/ZnXaZdW9FnSbH3DJRCWV2yjVObLvGj5P402t9AKfkblmrsB2PdWuUVCAQCgTmt2B84yag/DkdF5UVclVpBQlvU1V1B29ZtUXXpEtq1bYulixNwcu9HOKs/jQ43dULJj6cwduwYdO/mi+pffsFN7dvLy8/nfob77b3g7uWL+EWJ+Onnizh/sRptWrdCK6kOra/Ww9enK3K/zuM1Ny+GykrUwgM6nTtP+ZWorUSlgX49dHCmalnetnSMJ0/QQhXVdQVw1+mopZyv34TXRn+UJodDx5OcxSVZHNC0/qhFJVNqM8tkRJbNyf66tvD2uqovZoNXtOgqF0mdNyGg6C2Ed+FJzqBm6yp5TN/UMJPNXitc9EU11GxFzcY1tfkayCsQCAQtmdb81ykmTppMR7bBVTr8Sr2Ey3X1qDbUwa1de6BVW7SioPc2v14UDP8Cbxq47+pzBy5XXUTNLxVo7+6G9hTk6s/+jFZu7rS7B44c+w7Vl69C590Vve7wR1ef7qg11KN9h46InDyF19r8eJBsv3qQy3Bn9Tp/opLldTaI81TqMj95lv6Qj+jRIS4HuQyXZHFA0/rDXdHpNQhyGbJs11VgwdvrqlDMBrXo6lQp8qaOQogrQS5DzdZV8pi+r3mQy3DRF9VQsxU1G9fU5msgr0AgELRkXLqje6nqEsZPnIQz5edQR0Fuq1at4da2HdrQL65exQPDgvHY6CHY/N46DA7siza4gi66TrhSVwepVSt0v/V2tHPvgKtt3GDo5ItnX1yMq24dcbVtB9ReqYeHW1tIdTWovliJLw5ko1OnTrxmgUAgEAgEAoFAGy7d0e3o2RFznpqDy/WgELYN2lDQ2pYWUODaup07sr88hJpWbdGxcxd0vrkrfG++Gd26dKFg9yZUXLgAz5u8cMFwGW5eN2N5cirqWnvCvdPNqLp8lcrxRFVNLVq3dcfy5ctFkCsQCAQCgUAgcAmXAl3GxPHj8JfICLRp54GrFOxeouC0Hq1wRWoFt/Yd8O6WdNzmfxfO/XIJd/Txx0036dChQ0e4USD788Ua3H5XIFatT0Phjz+jY9db8ctlCW3bd8KVq63Q2s0d//PwaDw8OpTXJhAIBAKBQCAQOIfLgS5jacLzGD/mf9CGAlOP9p5o1aYtLW1QVy/h2x9+kl8yGx46BlfadsD56jp8V1yGVp7e6NC1B1Zv2IyvvytGp663oIqCXKmNO65KbUCH4uE/jsSiF+byWgQCgUAgEAgEAudxaY6uNYlJa/DhRzvAvsHQWi5OQrvWlyHVXsIjfwrFrKmT8eP3hai/Wg94dML8JctwruYKfG7vjaq6NrgitcaVqxKuUv5fwkfhxWdmKwULBAKBQCAQCAQu0iyBLuMfOzOxKiUVlRWVtCWhTVsKXmur0aldK3Tu1B4REyfg0KEcZO3dD53PrfD09oGhnkLj1q3lz5R16tQRz86agvGjRyoFCgQCgUAgEAgETaDZAl3GpapqbNy0Bdu278SZc5fg5dUJVRfPw7O9GyorL6B16zbofHM3SG3bo6qmHq3btoPXTR6YOGYUpkWEo2OHDrwkgUAgEAgEAoGgaTRroGvO7uyv8NV/8nD02xM4e/4czlWekwNbz/Ydcestt6H/XXfi3sH9MPL+wfwIgUAgEAgEAoGg+bhmga5AIBAIBAKBQPBb0qSvLggEAoFAIBAIBNcrItAVCAQCgUAgELRIRKArEAgEAoFAIGiRiEBXIBAIBAKBQNAiEYGuQCAQCAQCgaBFIgJdgUAgEAgEAkGLpFkC3dpTh+XFVW704wUCgUAgEAgEzU+zBLqV+9fKi6vc6McLBAKBQCAQCJqfJge6deXfo+ZElrywdWe50Y8XCAQCgUAgEFwbmhzo/nIoDZ109fLC1p3lRj9eUImC/dnI3l9IawqG0/m0nY3807U8xYor5cjfn4tS4wHNSWUpsj9ah5TkTcj47lpUYAXVl7M/H/orfPua01jf1jjU/++VZrMbxzr8PaE/mo2ck9egJbVM3y1HT+ZUnsxF9tFyvnU90Ty2adk+LWUa96Gx7DcYNjT1xzU8b1QWsbZno+AcT3ASLWPu9WtzvwPYvwB2lSsXz0qlL/eXrrx7q7zI65SmlRv9eJt8kyqFTxwvhb+TxxMUzvwrwWb6758caYW3t6TzTpIO8ZQz26bRtrcUtU3PUyzJe/sBOV+3PIenNBd5UnIok4UvM9KlMzzn2lAhZc5T6rLX1uansb6tcaT/3yvNZzeOdfi7IT9FGnGt2lKWLkW1FD2ZU5ElxcvtmiZtLeNp1w3NYJuN2qelTOM+v4FONPbHtTtvSNKh5ax+b2lFLk9wEodj7nVtc9c/mu/o1hTsQeX+VFR8vhI/fzQf5Zv/Cv2GaHTs8AvauEFe2DpLY3lsH7YvO4Yde6Mfr5n6SmTvoavDSqsru6pTttN/RXJWdIZX5+lIP80TfiP8R89D7NRZSH44kKc0k2yHdyH5a/qduhEF58+j4t1H4KvkNAuNZdQh+C9LET11IWKG+vA0QXOg/2g66bozklh/cmzZzQ2P/1jMj4tGTHIorietNN9Yk4sksgOvx7ZBz1OajC4IES9HI/rFxxF0C09rFq6BrK5wzdp3jbAhb4vzf1t9cnobopm9rMjlCQJ7aA5023rfhl++3ICag8lwP70VuupP0aX9cXTuXs/3gLzO0lge24fty45hx97oxzc/taisrKTFFPga5O1KGMwfg1+pRMHX2cgpUp7XyPtUyasNGM4VIoc9NjmlFkSXovSosqbUY7mv4RR/9GKnDGMdTA4DT3MGY9tYtR49QjA/cSHG+bvzXHXZLLhSS/sqj9hKrfQA6kr5BOPjAQ8bejLC6lDKyEXBOVt1Ud+UFyK/qFyWV8G2jLq7opCYOKvRCcW+vni/83IVvTd+XOhYRgaVVcQeh5Va2ow9jLr7utCsXRqoMrVXaZe17q3aZLbOjtUzGdVsq7IcBUcLoTcTqrQwQ/41VLC6FR02thsOtauS9Jh/ytJ3tOnQOez6Sa1JTqM+GvrdkQ+r6chM96wO83Jk3LshZO4rSBgbAA+2zeWwXsxtUHW8MNqIVpuqKlWmN9D+pu6z48/mbWF9Zr5O/sZkalTvqVLksd96AypYWeZ6U7XnWnlKB3tUzNpuIQddoAZOewWJs4Phx1Nk1Mqz2U4rtMhqa9yyC+nFln8b+7hBDsXeHLavEbx8TeMBr4Ptx9ti71ygei4x14OKvI7937rNCko/0/5GfanaiB1s+RmDyrJrp+bItmI95tjok1MFkFtpqDDplmFTRzc4/M6uJthj+bK3HpbOrfCTpE23qi5sH7av+aP8G/14TeQm2Xy8Yny00ZBufCzY8HhdL22dYfX4pHSHFHuPksaWwIhIKdS8DKlE2hE7sCFf3id2B6VaY3wsZb7wx1iX8qTkRwMs8vwfTZHyLskHEiVS5vNhFvm60PlSZinPtvFYzPoxTsm2GMmftv2fTJdls8xXkc2KmvwUKSLAfL8AKeLtPKmG8hr0a77YeMSVt9pSX6wM8+kkNYVpFjrXecdIO/T2ZWz8yMuBvni/+z+ZIC0cZ6b3AKqnTNlFXUajLGFSuPnxrA5+vK3HaDVkl+HmugsYTzIbeK46ShvDpIgIc7nCpPhdvHxjm15Nl7Zye2R1n8l4Wu530zFkn89nSRXKUWR7BdL7VvY7a/vxBj8wLcrjPlvtqtiTaNWuJIlpSpsO1R7lWuHATxTZAqSlH6Zz++GPKB34sCMdKbqPlOIXT5MCzfYJXanYvfU4YtMPGh6XOhgvLpFezKf+BARw2WzrqWT70xYyKfs58pVp0tptRlukdD3px8KnabmHbPlnOsA4lpovXG+q9szaYeYb/uMilX0bxtrG/a9Wnu12WqEmq8q41RijbE74d6MpJtbta9xeZgtbnzQff4x9befRutHHjbrkx/k/mirlGYcRR+cSK19gizJumstnOg+aFlv+XyK9H8Hyxkvv/8DKIAz7pIVsfxoDWDudGfOM43jEDDt+pmanhFG2EePGmx1P/UxjjtLPln1gy0/ldtnV0Y2NUy+jtel4M3z/+gmudP8f/PdkW9TX8QwrWN5l72HyvuwYIzf68U6xJQHjJk1oWGJWHuIZWqlE1tvzkXbSBxF/+wqlxcXYMbkbcnguo3TzAkRvrkHMuydQcf488pLDKW0+0s0e9yj4I/yT5YiW10MQ/+527PgkHAF0VZy9MhIJn5Uj6LktyCs+jK3PDYX+s0WIfTtXvopmdUSuzYXv5NXIPnEC2f/3CHy/XofIJdoezxm+fhMxMbTvkIVIS3rExh0Ge7JZUZuNpIhFyCofivith1F6ZAvih5Qja+HTSPm6Frr75mFHklIKpi2nMqicCf7Kthm6+15B9pFiWZ+lJ7Yg1qecdLAL+SyzNhcps54mnQ9FTPJ2HKL2HsqKQaC7RhkJrfrSf1uLgEWZJMNerBhPCeXbsCNXeVFBVcYGuiE8MZv2UfoMVEfc+mybd1hk3UUtQ3bgUmQXn0dF8XbE+2YjcU2GE49Yc+H+8EYUkEx5W+chiLZTY1ORbXbDQb9iGVIxFokvL0WID+DhNwmph04o7Simdo4i/axNR7bczFrkvD0bcZtLETR7NXbQfgWHMhHT/2aEPL0R8SPlIhGdxHQ9DyFdlG0LTm9D7MQ3kY1QJLy/V7bf7JRQebqKNh1qxbGfKJQjaUUqMGYp6WAEfNs69mF1HRnZhdKOUdh6gnT/wRx5ikLOO7tQqGRaIPsBs322JM9SbHRIIAJIf+rjBWtjNBJpPTxpr9LPf4+2aeMK+Uh/Pg2lI5cii+Ri8uftYz7hyFcykLQyBwHTSUfz/aFz90NE6ldyfayM7KRQ4OQ6pB8gBfQKN/n0yHlIM/q0A3su2JyAxP3UVy9ul8vNfjGEdY19VMuz104r1GRVGbfs44R/uwCzhZgt5QiMY/ZcjIKMBITxPDX0Ff6IzWI+tRfJk33IBxYgcVsp5Tj2kfyPmC+EIPGf3N6P7EV4L7lYM3Qa/d8P46YxfWcj4yCrnziai3T6CZwTiiBXx7y77fiZmp2aM3AOdjB97luNCBpzsl5YhvSTPM8M5qdp88kuGfx8Nf8+nUYd3Xg4/dWFNm7t4DP1b2h1y/2ovtj48IvnW0PS3Yluj2+W97XmRj/+16MQ+WuZE0UjZjKdEHQ6+PndrmTJlCP/wC76HQ3/zhRQ7adBsdZLTs8rtR7VdQgYMYAHmbQ+NAQhI6hMFCBnM9t3FuKfDoWfzg9hT8QiglLyaVAtbKgjEHFPRSHQxweB02IRw6ajfpKFHLWTB6MwDXE02OT4PILUdRQcefJ0C+zJZsW3uUhj9c2MR9woP+huD0XMnEcoIR+p+wvgcUsgQgK5fnoMoDKonD6NSoHfkHAE3iI/5KXByx8D7qNfKlc+gXybjVT2yJXqSJgaggBqb8CQoaQXjTI6o6/eQQgbQu3wCcSAu5Uk46MwVRkboOP6+5BdUJ9Nj0E4peg359oMfoy6C+rvi4r8bGTnVwLs+u2TUvBThCYGBAbCl9nhqCjEjKWE8jTkfKvkyYyni5nkpYiNm4OYESRbf/M+CCC9sd9a3s4CZK9nYSfZ3otRtJ8PfPsMRVBv+h0UjICb2D6ki0Cma6rXarYCQ5+bJT/6C3xmIeLHBsr2GziK9qU0bTrUiiM/MRH+YhqSX55DOphFwb4jHyZrUtWRiaCRoWSPdHwgt0M7bZH9gNn+4PbI2bgOBdz3At0djRemNkZP4v3sH2DDxo3o4MsigT3rkLxxFwqqPODXn/mEY1+JeWsLVrxIOnqRAkYdk9eU798nSP6V29/F3+TTNwUgyOjTqvZM7TzI5jyGk85D5Hb43u5rUX8jVMuz104rHMhqb9yyjxP+7TSmcSryEWbP1MY+AbzPHNB7AAbcTr1M41b0dCWwzzqQT8GjYx/R+QygvzTGvpOGrKJauN+uXIBZ4q7Z/3X3jZIvqLI+z5WD1/yDLIilNj1IHebimGfXz9Ts1Az5OKbP/jRGTmcpu+TpM9YwPw3y56Xx81XgLe4adXTj0ThS08jVqvNo5yHxLRMdOl1FfU0F37LPjX68QyYnYsdHdDXKl9S5wTzDWfjJ2gYG2QPTMH/8BIxjS7zyebRunjZGBZvUyo4MCg28jB7s0025W8EdXKnDD74NztYNfixosHEytiZnYyrSqZyAqVEItzy/O49x/q2vV8Ng49tDua+iv6J9HlPpZ4swrl93+PXqRcsgxHzCMxg26nCWpujLiKqMtuiio1oI46BsDW9XzqrZip2Mn44k9n5lfw8V61KjG3TynGSq0DTFvRGGo+sQPcTYju4Y9xrPkLFhe87C+92PbNYap3WoimM/UUfFh1V15CJV+UiJiUbiqVAkpicjgvue+njhbH/4IfpvmUic5I6c12YjrN8AjEvY5dSFkwzJmvrYIHST298L3cYv4xkqaLXntvzXEarlNbGdNsYUp8ctR/7tAo3HKRfo4gs53DOwdjj2Eb+pa5H18iPwOLgMMWF3YsD4Rcg6xXZwkS5hiHjOh4LXHORV5iN7G104j5qF8P6U19xjngt2qvOVr1o1j/uMZtdRC8GlQLf+0s+oO1sI9w6S/PiePao3PspnXx9oe/mM6j9PuNGP/3VwhwdzWOSgwMajD4aH7LHRSCs6Lz+KNC4rHtYaORjryEep8e3o0/yFCnlAoCtMeSA8ZMqnIb70IPv1hc7mHVoTQS+nIXWyDwposIn7yOlToCXuHnStTnxbqpw4CH2p8iA6sKPGwL6WrpSnrEF23+U4VM50dQKpbNqAkTasVYRZHc7RNH3JOJLRFnp2P4UY6avIbw1vV+DLey3spGKf8nhOfsnCqZcezkBfxH5D4NtZTrBBKdL/dwEyTs7CVvbokOrLepFnyVCfyR+qMLM9Z2mr9HvOSSvbckWHqjpw5Cf2cOTDjnTkClRmPHuE7IeETe8jtr/JN9THCxf6o8tQxLLHuUV7kTqzG7LfjkO6k/9JvfSjxZj/SSliPihW5MlayHNUULVnkw8W/KDRph35R1Pa2RzjliP/dgHFFszHKecxlJUq03Bu96EgXouP6BAUtxaHjhUj+2+z4Lt/DZ0XXJtMpOCOoAejSSfrkP3BfmQdBcInh1H4TjjqUydx3k5rqZ+Vryn40YWKdppbRy0DlwJdw/f70a7dVZz/bxuUnfJGhwdfkhe2ztIYl0/z12ZtcKMf36wczMKOz7OR9VEq0uWAyEggIp5mD6x2IS5yMuYvWYDIJ82vIn0QMp4cAWlIiF+DDPYmKFt2bkKWzZOqD3zleU+HkL4lg/bLpVNiIEL+wq46M5C6mo7bvwtpq1Plx8FBfxlBuToE0xWyL12Sp658U64jY1USUukK3XdmKIJl/zWeILOoDVYf827rh4gkkm9IOdJjZiPJ7pw0W7JZ0X8EIofQ7yepSNq8C9mfb0LSO0zSoYgcrnHoMtSy+w7Az3roz1fyD+3LOQqDQhEn15GAuKXbSB+sX7YhR26TBhk16csBjmRsIAtpa0mO/RlISkhENqWETRyhDPLGAPDzHchgj814u/LXLEYC051sK7uQTv3Fmqb/NE6+mxjziXxLxi5ZG9fxNi1AIrs7MuoRhPRW8hpTicqf2S+1o5zWT1GdFl/RCUTYM4rtJcQvQzr5QPbn25D+NZOIPW6Wd0LWNrJLymNPHq3xHR4hTwvRv0b9JeuCZKP2lTrUYWObVdeBIz+xhyMfdqQj5ylYO1uee4kRd9LYwv5xyhp5yTrpaLyg/pjDWsL6g9vulnSL+cSWFCJD1jkFNvUUyFhcxGnxFYXKKuXp2ZlzerrQKEX2HqsaO/vS5RRxMB1pO0mmr6kkVXvWUV8tpNaUIynmAcQsWYSYiAS5r+yiWp5aO62wJavL45aKf3OYfzNbTF+v1k8Ma3snWxjDHvqXI/GlBUhj55/N6ZSrAWpb6kdKOxa9uoYSfBA/KpgCWcc+UvCJMn6wf6rg7qEW5Gvzf4bHiHDEUYCd/lYy6SgakQ/KDXU45jmLQzvl5LDzuKzPRUhMpgSfeQi7z3ZbdV14I3eRvXxOMh6tdEJHNxj8pTSn+HnHYqkkobf8a/1VAmPe2W3xPLUxN/rxqhjfvrV647/hLcuGdL3FG9CBM1Kk918db/WWpUE6sS1BimL/aCI2Sdqxfr5VGQYp7x3Lt0R1AcFS8jc824qKbLM31Pnb6ezt1cyF483e/A6Qwhdmmd7EtlFH4IxUs68ySNKJTZH8ePaFAhtvBf+QJkWw/IAYaWupjXzCtmxWlGZZfalgvLTwX2bfmLCjexPUltWmtvqPS5Di5Td8zd5Gtq7jnqelTC6mLRkbf3XBgb6s3pJnGMtQ9OFIRv72bsR8aeEMo/1Y9dnP+6SF/O15/5Vck9btoiXwmSxZhryVLP0BKTlf2dUaW28kM7msvyRh/Q862BcFGvRwzzRp4Txm3+ZvdVvb3kAp9l9c2YVpUlTD28d27IqoyU8124/kuj+F+sVxP1vbrCMdOPITW7IpqPuwIx01si/rN+ytdG/c33pRjm9smxbjhcVXMFj7EqRZsr2b+UcDeVLy/eb2RPuvzGn4koA2XyHKzN8yHyhFLZwvhdO6SY8V0r5XzPpSgz0zKg6mSLFM5zPmS2s/TLGyTxtfIbBbnno7LdEoq/W4ZYEG/7bW2eo0aelEtm41RqjYuywrnW+MsgbOIB+Rv2Kg/tUFXUikFNXQFqq74asCDHUfyXs72CyP+SXJJ4+LNvpDo/8zGv6RxOJ9lv3iwEbMcexn6naqyBYgzSKfabB78ue1+cavPNhoo0T+1tDH7IszehUd3di4HOhe1hfxrcawPLaPPW7045uTmooKqUKjIVfQSZEZ/4i3+QBqpM4gVbByKmx/OsWaGlu7GdjxtNgrwljHNXY6m7JZIeuMFtsnGw1c0qArlX20yNhkfWmRkcH20yIPx6g70zH8cz4RaaYTqRUWJwG5XU5UyO1Kta+4rmzuY9BWl00/0qpDDTpowJGfOMCmD2vRUXPiaLxwxqZkHdvfX5OvUADuWKcGqaaOr5rR2J5tYPzvcfNMn22zh93yHLTTEnVZnepne31h9Bkb9TgFsz0tY5TVBRVri9261XzEke1Zo9H/1dBkI5rQYqcMtp8TlZFOLGzCWR3dALRif/jNXUELQ79zARJz/RAY6I9uhmykLV2DrPJwpB7biIjfw3+8EfwOyEVi59HQv1+M5LG251aw/3IV9hqQkHUe8ewxbIvDsQ5cRfjwb8DhNYjcXIGQQYHw9ziFjHcWIe3rQLLfTLJf8TjYJdh/8eo3Gxnj16Lg3eb9j5MCgSNc/uqC4PpH5xcIj6I0JMVMRnTcGhQEzkHqobXiBCloRgIRV1yMFSoBnocuBCEjQ6BTpq+3QBzrwFWED/8G+PaXv6OaGjcdkTGLkFX1CBL/+YkIcptCWx38aAwI6dH8PiIQOELc0RUIBAKBQCAQtEjEHV2BQCAQCAQCQYtEBLoCgUAgEAgEghaJCHQFAoFAIBAIBC0SEegKBAKBQCAQCFokItAVCAQCgUAgELRIRKBrRUXpERwuVf5d36+BXN+3Z1HHt1sshrM49s1xlBv4tuA6oAIl3xzBMX2Ltz6BQCAQ3KA493mxgq2I+/uXfAPwuWMg/PsMxchRfeHTxG9kVuxehtiNHfBkynMY3okn/gYc2zAFS7EQW2b25SkmCjdNx6KvxuCNlEj05GlNRa6vZAaSXwlT/p14U5D7B4hbFQl/niRzfi/eXLodtz75f5gcwNNUuCZ9cTYLi575AsPfehmju/I0c84fwZYNW3HgZDmq3Dqi621DET45EsNvc+M7tHDqz+Lwzq3YubcIxdWX4dmhB/pNmIqo4T3hec2+P3scG6YsQ/H0t7DUZqc0IxfLcOCT97DlP30a2ydR9e12JH+wF8VnL6Fdh17wnzgDcSN68FwV6qtRcmAz0rYfV/R22yBMnhmD4Wbfma06mYUNG/6Jw2eV/D9PmYqHenfguRw1+apLsPuDzfjHN8Vkmz7wHx6JJycOhFeL/S6wQCAQtBycu6N7uRrl+q54KHoGZtIytn8HFP9zOeYmZqGc7+Iqnn0eRPifhsPf6vxzPeEz4M8YHT4IroYE5ZlLMHnDcb51DZD7pxqX+WYD9ZdRoacAslGGbRr3BQuIliDzLN9sbgxU/uLl2N1mGCbHPo8XnpiBvwz1xNmzVXwHV3R3FpmLp2DDUb55PVNN7Z8bjzd3X8agiBl4Yf5zmDmhJ05ufAlPMN+q5/upcr229yxy1r2EqCdewob9hTbts+roe5j7xl643RuDxUmrsejZCejrxTMdULFnFV7ZCwRFzCG9TcVoz8NIfnENcoxPDr7fjLkJ23GZyl6auACTbyvGhpffMLNlR/JV4EDKEmypexAvvLEayQmPIeDbVYhdm9vyn8IIBAJBC8CFqQs90GfwQAxiywOReCH+z/Au2IrM73k2o44CrtIilJytRp2mkzTgdhsFOZOHWt4Zrq9D1ekiFJ7WXo5NHJRTd7YEhaVnHdbh1X8CZo7uA0++3QArXy6jQrWMinNlfM02ddVnUfJ9CSpsnEGNeeXVzXt6tVVno764WGH3QkZVLrKDsu+LUOZI5qJcZJ7vg4lRYzD87j7wv5vZ1gT8ebAp2rGrO0O13LfHqP+qLKohmfV81Ro1ezDw9lx0ILNG21TrUyOF29cg0zAc8157DmPvHwj/P/Sh9k/FG6/NQK+T7+GdA42n0tRdpHbTYqrbxfYacdBXdRfLUPh9GarsTT1hddjUWRUud5uKlRs3YkPsSJ5mRn0RPk7Jwq0z/xfzxvZFj04d4OPXFw/113A3l/C8/zlsWBKD0feT3fxhGMZOGYOedTk4dpLlVuPAx5+iasRjeJqV3bUnhk9fgJl3FmFLZpF8vEP5Lh7HgSM9ED5xmCybZ9c++POE4ajbfxwFfBeBQCAQXL84N3Xh6HuY/Bqw6IMZ6MeTlEfSm9ErYSNm3g2U71+FpeuO4HJnb7SrvYALbmF44Y2p6Fe6GTNfLkHU2wvxkDF++Z7SFvO0Hy3LrqLg+ZU3PsXZTt4UWF7ChYu9MPMN2u/Me4h6rQpPb5iDIA/a8TzVH/seKiJWIPnPysmx8INZWFQahXdefBBu9spht2XrzyJzeTw2nHCDT+eO7IYo2rmVo3yw7akL7K5i3BfD+DQDdpdzOcpHh+HCl3tQ3aEjqs6X4/ItFKAkjkEPi8eayiPiTL4l8wdlukI5m7pwdCCCPAtx/GJHeBouoNzQA9GJr2LsbbQfyXggZRn+nncZ3rp2uFx5Ae0eWoCVUX3R6KG+rf5hyH30Hnq9+AFm9lemS7x+PgyjKw5gj606zcrxYW3eaAwKFEazcu5Wl4vdpXshKQsXPH3g7XaJwomOJIcOk21NXZDtYA+C41fjicHWt/Tt666CTSXZ7Qkfqh9ka+VV3hj7/ApE128m+bP4zgr+/PG8XbvqWofC9CV4ZWc5vMkWcJXyBj+HTdMb20HVyU+xMnEzCjyobVDqHR3/KulWkd2hfi0oQtoTS5DzsMl+zTn8DpV1ZgbeWRIG2W30WXh98WYcNpDNUsIFXSRWRpxGnL32qsqq6PaAX094VVIQ7H4ZF/RV8B69AK9Tu+ULumoKCl9NRMZZb3jTIVXnL6DX9CQsYg7Ep6P0m94LBz7IQnldWGPbM8eWff64HXHPF2LyOwuaZ5pMARtnqDzZzpT2VT2zEXHBJm8p/+dLiNtPfvzaGMvpQjb9R+mfwvGkzz8phluxbxme+PfQ5pluJBAIBIJrCwt0NZP/rhT56LvSUb4pXbkgfbP+r1LkHEqroe0Le6RXHo2XPvxByZau/CR9vOBRKWHXBVovlN6f/aj0yl5a5xSkPS5NfTtHusw2zMuW950mrf6iim0RVdKh5GnS1PeOSVJNjrR62jRpfb6Sc/mrFGnqY5S3KFPSyylU57OPSq9l07Fq5RAX9iZKkdNSpP2/yJu0f5W0f+WjUuR6Jd8a/WeLpciGeo5J6x99VIqlsi5dkRMk6cQm6bFHF0uflfNtK46ub1y2nPYstbtBBkVPCbwQWcYFW6RiYx2n/iE9x+o4x7fNse4fI+WZUgLJatSZozoblSMfb9kuVbl4ec9tLVbyGD9skWLt6qZKOvreM9LUR6dJj/1vivTxF8XSBWO5HFu6ky7LlsOx7julf4xtllG1B7b/49L640qOjJUMMqyMOZZtY3YxlezoEPMBwqF+zfnlgPQayfn3I3zbCtnmzP2C6p69/rDJ5hpktNNeVVm5DX9o2U/PkR7eP6Fsyj6afKChvkvM36ZxebhdPUfy/PTLZelyjXl/2MCWfR5ZS2kp0mf5mdLflz4jxT77jLRgxRbpG1v27ZBy6bP/pf5844AkjzJWdm/EQqfm2PGfSye2SAtojIl9Y4v07y+2SAmzE6XPzvBMgUAgEFzXuDB1IQtLp0zBZLZEP4U3Tw7CvEUz0M+D3cXLwbHOA9G3q/JYtaraG117AoWnyoA2ffBQeA8c+/II5Aex9UU4tL8OwUMGNr4zWZyDPRf7ou8dVKb8iBbwua0H6n4oQ7nHQATfCxzIU+4yFhzPQfD0xxD8/REU0n44exzf6Adi+MAO6uWgDoVHjwP3DzPdSWrTAV46vq4Rr24+ppeFOneFtgeuVnS6BT4NMnjBx5evoxrHDh2H14C+6FrNderVFb1QhDL1WRCOsVunFhzIdfo4ci72xEMhZq/sdfJS7kjapAP6Tf8/vLtqASb3KEfGOy/hiZiXsKWgmufbwU2xHPYYv65eQ9+p2gPp4LZqHMr81PQVAlsvG7Eyzlu2zeeBsQiu+wKHzZ9la9VvXRXYTGQ3LZ7I6w4fM9Bkc7ZkNKJRVi8vs8k4vUfiIT/q3x/YJFbmo9Xod7c/dbnSz+jaAz3qilFmNl+739CB6NHJDW4ejTzZIeVnfqK/Odh9CAiKXohFz87A4LpP8fri93DMyS90lGemIO3sSLwQO0zF1pynqrwMdZ2HY2wwSbrlUxR7sFvbDmxTIBAIBNcFLgS67PHkB9jywVuYGeCGdrcNRV9+Eq+qplP2xT14Z/FLeIEvWwp9MKin8oCvx/Ax6Hd0Dw6xk+T3dBKmskYPtnFyrKmjk/9xbHndVM6be6vhc2cP+FBYPGhIEC7vz0EhnYgPH+qLQYODMGjgERw/STKcoIB34DAMYkGGajkVuMAmnvJg6fqEgqBL9HdfaoP8LyxOR6HvQPTsxnf5TXAgVwWb00uBj5PW5ebbF6NnvYwNG1Yg2q8MH6/8B/WxfaqObsbcmdPxRMJLmBv/FF7/nGfYQ9UeemBswkI8XL8Xrz83HVHxa5B50kYwI5dh1TYKfFio+NMZF97W69wDvcgEi/W2P2knz03266o8IrdVtxouyspcouQMc47LdBEBHNu2zNTPyXtR7euPHp2VfZuKzy296O9IRM8KwyDWTr+BmPzXx9Dv/B7kyPNstcGmTC36AIhmF93KDBLSrQ9upZ+6q8qmBRSYt+OrqpymoPtvwMRXYjCavZPw1ka8EV6HLS+nwMbUaYFAIBBcZ7gQ6BrpitFPRqLHvrXY8q1yB8zbi07HHiMRt+r/kGy2vCBPiCW8gjByYBEOfHMWhbl74BX+IPxt3ZHy8qITe19Ev2JZTvIUZb6kW/8gBBtycXzfceRQcOXfqQP8B/TBoePHcTzvCAbdN0iZX6hajhe8WfRQXX0dvz2tyNjugTmW8q9aoMwxtqa9G7Xb8m6bzPmzKEMf9HDpdrMtHMgl670S1a5+M7cNBZ0ThtNFU13jL0g0QAFr0qfoMetv2PAWq/ttvDCKZ9nDgV2hU1/8OX4FNqW9jcXB5djwho1AWy6jzjJ4Yi/E0c+t3Wx1iiP80e9eNxRm5zR+4Y899dhXDc/+/lQn4axeXZL1MqopuPW/nRkL9TNdxPZ79FVLfa2ain5qd5KdQZbRymY9PKlm8kqVl/zMYfPBF62rwMNLnsdo8zvnZEc9/0CB+knzxx91KCkqAkinLMR2RPnRHJT5+Vt8DabHqDEYXkcX1D/yBIFAIBBctzQh0CV8xyB6LJD59lYU0knJLWAgBhmy8PFus7NWfR0qGt7G7oDgkcNQ/EUK0nb1wOhgO5HXLX0R1PkIPs44jiqzk11FBb/DJk9fuIDP0rOAQX3lIMDnbgpuc9/Dh7l82gJDtRw3Co4Hwi13JzJ/5PJVFOF4ibJ6TWjjBujLUMFk0XQSV2S8nPkPmKsUdRW2337vRRcSnYuw5d0slBlVTm36x4dZqPrDMAxy9S6cHNSUmYKRegdyyXovx2e7jvC21qH8RBGVYIeKMssvdFwswT+2H6BgpKd8R07Glu7Mr1DqKJi3/uoAHVJmvFPKjlGzB5KxzlheGy+6KLDz8Pu2oRh9WwkyPj3SUEbZ5ztxwI30q+EbxY1xQ9DEqfAv3Yw3Nx5BuVEGas+Btauw0zAMT07oo6QZ9brzC9MnxwxmSrBur0ZZy4oKG+ot378dGfo+GD6Atb8H+g71wuGd/8AxNi3ISAX1M19tMrKMZLNbTG0q270Th0jGfnKzzyJny3vI/N68s03InyZ77TiCn4lFGMXuypQUWuSvR3RFcOhAXNi+FjtP8/1P/gMZX3bA6AdsTJmygU9Pf3iWfoqdeaa7+1XffIkDdMHUs9GLhQKBQCC43mhaoEv4T5yD0fgUf99BYYzXMMS9NAYXNj2DydNn4YknpmPyzL8ijd/xZbgNDsNofREK7xyJYHs3ldr0QfSiOehxaDlmRk/HE09ROVOm45V9xnteyvSFqvNVGPQHHizfRkFANQVjffm0BYaDcrxGxOKF0Gp8+DxLn4KoRAoIfeR7Z9eEfg9GomfRe3giegomU11annwyGRePrcCGZ0i+J57CzOn0G7sZx22d93l7+5ZtxlzaT55H/dQSfFQ3BovmN+EN8c5BCH+gI3YnsjKnY0OBA7lkOWag16FVSlvJBpJLPe3fQTufi9XPz0IU25fJ/MRLJHMYXnjiQRjDzca664uHJvfE4ZS/YuZTdGz8JpR3Nv83HpQf0RMFG56Sy1y0h7StZg/VR7D6CSbrU4ij9JnvlGJ07J8b/WMDFvyNnTsH/nmrqAxF3rkf12HiS48pXwFxBV9q65Kp8PlmFeKM/Tb9Gfy9bBheWDUHQca7iVx+/xNrEcfrjnqGLjLlTBvt1SQrXbS4fYvXWdspP25dEfr+Nbbhyxj+k19G3C25cn7UU08hitWZuJfCz+ZCkbFvkalNc7fVIdwoo6EEhz7Zg7Ia22FpcS6zhTJkJj2DmU/MMi2v75HvkCt2WocP45WyZyZ8inZTEjC5v5Ywlwj4MxZP6YkDK2eRbVC51D8zU4ox8vk5pq/HCAQCgeC6xbnPizkBe0GIPXZu16ED3JrwmLOumsqpv8bl1FWjqr4DPF0NVH4N2HdK2V2qNm7w7OD4JG1sL9yucbscyMXsABr7zmgzTsnMHsVf1aYTc+zZgzP2puxLdXdyrm41NPebk+3WIqtqXzEfYXfrr6E92ZSRfXpuBfDC21NtT3PSCpff5XHEaOd0YdCc/S0QCASCa8s1C3QFAoGgqVR8vgRzz0RhQxSfviEQCAQCgROIQFcgEFy/1FWjrrWLd2EFAoFAcMMjAl2BQCAQCAQCQYukyS+jCQQCgUAgEAgE1yMi0BUIBAKBQCAQtEhEoCsQCAQCgUAgaJGIQFcgEAgEAoFA0CIRga5AIBAIBAKBoEUiAl2BQCAQCAQCQYtEBLoCgUAgEAgEghaJ5kDXcPYwTv5nN0rK2P8BNXGx7KCcXsb+tb5mKvD9qt74Ys4a/MT+3SlR8+MHyJnWCl9EtkJO1nc8/02UWFbngMPIf/qPOLjqnzjHUxownEEpyclkZctPJHANr7vZOPdP/IfV//8O8wSBQCAQCAQCwW+F5kDXw60YP7/xR5S9+09c4GksYC179378942PUeXkfy66Cg+gHd+gcn7cNBV19VPQ6Zl/wzfQmyRj+R5o69S/lTfg6pnduPpzBZVvxcXdOEPy/5cvpc9545vHZuHEGZ7fHFytwBVWP/un+gKBQCAQCASC3xTtUxe8HsJNgfSbvxtnLypJuPglqvLpd9hE3NZJSbpsOIOyou9wzizWu2yoQCUFf1dovaaqAlX1Xrht9pfo98rj8JEDZMq7RD89HkLnwMHw8vRA15nm+Qo1VcX4qagYF+t4Akeus6Rxui3aPvZfDNsqYehrKWhrWI9zOw82yGWUkVF1kbZ5G+Q8vs7SG+4E1xtwke130YDLPMnIlboKnCv5DnqrmJcdry86DL3VMWx/W+msjnMlh1F2tnEdAoFAIBAIBAL7ODFH1wvdQ+bQ7xpcPKZEbzXHdlOI2g0d7rsf7Wmt5N0/Indad5QsvBsnpvVGzr+V26WnN3nj2NMJOPa3P+Kbx7xRdPwMil+ltMffxGmcwbcLu+NCEe1YMgulj7N048LyifpinEjsTcf2RunC3sif8UccOa7IcDF/Gf7D6lzA0ieiSk51TLs7BsOdrZz6LypJBlmeVz/md6sPoojVv+kgrfO8pctwhGQ48vjjKD5PbWdTLR5rj3xZzvY4/C+zW8P/SUDuDG+cWHA3vp92P/JZ26icE4tb0fHe+H7hYHxPx+QmKXfHWRtyp5rSjWWx9IPT2lM5g1Eyh/ZP/Bhn5RyBQCAQCAQCgSOcehlNFzSRTTiA4T9fooZ+9cc3A26PQxdIqT+sx3//9S08nquR75jeOsYLdR9sxk/ykcTF3bjcaQ66P/9vdL2dp8l0Q6+XvoWuJ632XAe/9RfQbz3f5lR+9SbO5d8F3ZsSlX0BXe7ajaoduylAPYzitxJwtdNCdH9XQvB7m9GBH2OPq6e+lOfoFr6bKAfFbYcMQhclS52iLyHdk0LyJ6BLp2L88H9TUec2D11X1yD4/9Xg7lHd+I7EHXNw5/sShi5JJAUfRM33LHClC4W5FzD4/7E2kH7+ZxCQc5jaAJzLoTZ0SYIfzwuUy/oOxX+j9KB/I5DSgl9JQuv8RPxXDpoFAoFAIBAIBI5wKtCFx/3wDqEg7OBB6OsP45eDFMDd9xC6U5x77ocv5Xmxhk1jcPDpP+J09n8puDVNBQB6oePoieh9z0Po4cWTOO09vdGazcV1aw/3Tl7QdeLbnAuFH9Hf73BxxR+p7Em0TZuXKnD5XDEMbBrFfWPQ25OCVjq+FTtAhav/niTP0T275wLcxnyJP4zpxXMcQW3/nz+R/IPgW3UY1T9S0n2T4N/NA23beKCT+Vxir+7wbgO08+llpmAPeLa5gLIdb+LIu2tQ+Ys3T6cLiLvmkALjUTp7Kg7/6yAusYPOfQcDe6MufxmOkT5zk9eTfg/jKrvCEAgEAoFAIBA4xLlAl4K17kGPA3Uf4Zcdu1F1sRs8Qx5Ce8pp68ECt7vRYeJC+E6n5anN6L5kira7pQ5o69ad/j6ETqxctjzzb3Sf+Sc0hIp1MAuo1THO0R32/pcImn4fujj5Ep0FTtQLw2EcW9Ab+sMe6Bh4F3vPrgHvYSkYuuZLeAcB1ZvuR+Gqf6KSdmCitQ6ao7R5Jrub/CV871COEQgEAoFAIBCo42SgC7S/Zww83Q7j4v+Lx9VO8fDuq6Tr7hiEttgNw3cGePoPRhdaPG9qT2lNp4v/n+jvp6gu8YZOLvtuuFOg2LbLIHS4jbIOpKCwpAKVZcVNe2Gr5BtcOFuBc0XfoJYn2cSs3m/zi1F5sRg/Uf2qXPwOtedI5iF/Qs+Bg+HR8MUJA/Q/fIeLHnfBb3oivFkge6EClzvdBXeq4+qRb3C1m6LPLt26oXVTAnOBQCAQCASCGwinA120uQ/eYYPk1dYhD6GHMfDq8Th6znocVw+Owff8ZbLvN36Jap7dFNoHJaDHmMGo2zIYJ+Syu6Pk82LK6YU7nt0MtzYf4MICSn/1U0gu3ULuhi7DpwB1b+LsnLtQuLMCbc2m3DamF+6c/yk8vHbjYmJvkud+lB5g8qjQ9SHoAnvhyqbeODRtEspPGW/pUoC+dYzcriPTeuPCDw/Bc/JEdJXr+Ahul9dD/5yiz2MLluGC1rftBAKBQCAQCG5wWkkEX28e6g2orDYAbl7QmT2ebw7YJ7jYJ2pbe3hZzoklqijD3dOjSXeQ2WfELrdxTm726bQ6aqunxjut7PNi6NB4f2Pb2lFee6s8dswVeKB9Jw/Tp4cFAoFAIBAIBKo0f6ArEAgEAoFAIBBcBzg/dUEgEAgEAoFAIPgdIAJdgUAgEAgEAkGLRAS6AoFAIBAIBIIWiQh0BQKBQCAQCAQtEhHoCgQCgUAgEAhaJCLQFQgEAoFAIBC0SESgKxAIBAKBQCBokYhAVyAQCAQCgUDQIhGBrkAgEAgEAoGgRSICXYFAIBAIBAJBi0QEugKBQCAQCASCFskNGOjWQn84G/mna/m261QWZSP7cDkMfPvXoxIFOzchJXkTMooqeZqJay5XbTny92ej4Bzfvs4xnM5H9v5C0lpLhGyB+sJle/6d9WXzoj4WNLcfOS6v+cYmx9zIdvNr6vk35ob27+ub3y5+uPFwLtA9vA7jJi1CVjnbKEdWwgQkfCZv/I6oRPbqCVhxsOlhT8H2CRi3OvtXDqBqkb00GMGrc1FBNZf+UMHTTVxzuc5lY8X4Ccgo5tvXOZUH38S48Rko4Nu/NvnJg+AVtu4a1V+IDOoLl+35GvbltW13c6A+FjTZj8ozEHfnnZj/uVKC4/Is5dHvfAYBdy5AlssCqHGt7SYfKUM6I2xtId++ntB4DijfhYRJE5B6mG9fx1R+l4GU+Ol0fiYboyVuySbksOZd67Fa1pExJnCS2lwkMXn/ls8Tfn1cG6PykUpy24p98tdSe9Zqa4+j8aA5/f/6H4uvLc4FuvU0QOw5hcorymZlWTaFXe7KhkAD5NidpyP9NN90iQLkf16O8CcWIiFuDmIf9uPpgusVv/vmIfHxINxoPXWjtrsBXSDC58Yj3F/HE5xDd/dYxM8diwDXDv+N8UPQc0sRc5+x98uR/lhnJH3NN38PXKlE6R4KROr59nVJLQVXkxE0bDEOeYYi5tm5iH92DkJ6GGD4NW5YyzqiilwIAww5WUg9fgIFb2Ugu5GszXGudIxrY1QtKskuSqv4phmGymxkVzaP4hv7v+s6udHH4iZMXdDB93bA92bto7ChshT5R0tRacNAbFJVCXObMVSWo+BoIfSNDIkMj+V9nY9Sm0ZG+afykX+qUtNjAkMlOe/RXBSUa9vfGrvtrKyAnq86wr6uamE4ylcdot5u+/rk1FZCX5Tvmh6qHJRt5IqZjPwCqjG0T3kh8ou0918lLTb3JZsqPUp2YkOv6jbEUJODtaPQpq50Q6IQOzkQHnzbhGvl2YX6S26bHfkd+l9DXzQ+3hWfsNluTTZFcqj1gcN+Mtl2412MbXRCry4dQ7j7IWz2LITQOGkf+2V79KbAZXaIjZMTHdOcdqNWHhuDSb6conIbuuQYfd3CrnQImjoHEf2NEdAZ6E/yVSsMct1Uvj27ZJDdMBlzVM8fjvTiQh9ao0Ufso0XWtin0fdsjXF2/bLBn1VkProO8S/oEf3Pr5D2chTCR4QgZEQoIpjd+fB9bKHmhxrbKMvbxYfs0xdexjBAi8wylcj+5E0ELVuLhMA3kXXQqiKVc6XD8xZDYx/YHpvJVuRziEr5TuB47LRtm438355ONOi8cTtNdWpppqzzIrJR474q54rrEskZcpMknfc0aWuZspn3znhp7Te0kp8ijfB+Wtrxs5IuY552KU9aO2Og5H//eCl84ngpKGCgFJuhV/az4tByb8n/1XRpa+xAqstbitrG9iuRMheOl/zvCZOPD70nQApfnSfVsAP0O6TYgAApaJyxbG8pMHaHdIblMS7lSCvGBUg6fmwQkyHEWK41eVLyPXR8qFJWKK37j0uR8gw82womq25GulldBdL7TG65rjAp0JvkXJkjy3lm2zS5PebLilzlMAtUylD0b1mGbnmOfJg5slwhkVJUhFFfrB1J0qFLfAepQtr3KukzIFjRCddZCc9lVOxJlMKNer2f6Y/6spRnlqVLUWby15Bcod5h0orsCtoykF1ENpQdPi5YClyZp+xoRU1hmhRr1HcotTlgPJVpVDb1G7U9fmWKFHW/SU7/6DQLOS0oJVtgsrK6qV5/3jeK7qdJ8WRDQca6vAdKS7N5Xao2pEEOCxsLo3KelmZNNOlHrr/BTppeniWsPG9pxKPTpAjZbq1shqHmf7wvo55PoH422hy1/5V9/Hj7PpG3+gFJR3pivW4k721TmmW7tdjUNGnttiTah9k22SvPasCBr8tjx7wkKXlGsKmOgGnS+z/wHZwaCxz7kXX7SEBp6wzz8pS+MfZb4/HCgTyyvxv1wMpqfrsJn5dgt7y81cZxiOTi/pn8DfcZbjcRM6ZJocw2mL+RT8VuNx5tpgsb45acbiC7fDSgwS7D7x8orWDnEyvOZDxtMZ7I9TScP5zVi+N+b8BqnHOsj0gpfvE0pXxZzgBp1spUaSGth9IxzH50oUmm84mKX57ZNZ/G1IHycbJPPml2TjND9reJZm21xqoNjJJ/ka9TXXLZ1A7zc5xaGxV7T5W2rqRzB+tH+dxDbZiYSn+1yyzzM/kyjw9KNkVajCPKeG1pL4r8Ds5bLvSBtQ/X5KZIEWwfpgPWfhvnV6Pv2LIf2ccbjlGPJxyep838355OtOrcop1lWVJ8qLlcMdIOG64gHxMxX1poMZ7GSCvesTxXhNL5vYb7+wiKy0xUSJnzrNN+G5oU6JqgDqWBIzbDdMpjJ0F/frKU1xdnNRhyzZ4EMlYyNr5tjtL586Wt+Xqp4pJBqiGjqKCBTheRKp2o4zv9kCZFeBs7h/YxpjMKU6Vw82CcnYzNj60rIMe0P8ix+hq4RAbBDcoW1ieuvLfDLOsqTZdm0Ym5IaCSHdGW/kw4LEPFyYzIctHgY9HmCJPBVfxrPuk/Qco0dgg7EZDhR2ziQ8bP1G6qc+Eu4w4GKpPJxQdUs8GTBbnhARTkHjTuy+QLtnnCsoRshtW5voBv04C3LYbkSpT2yU1V2hm+OqfBbpSLJ3v6U8oLpUGmYX+OMkg8LW1tUFmFtCOWdNQwIKnZkCM5DNK+V2gAIDtoGHArLO3GcjBtenmW8PLeMemRyR/h/YCUnK9sqvof78tYM3uS/c0s0LTrE40ucNk4YLJVi3ZrtKmI5fukkgrqD/L9xqj7umL3KdKhBsUq45LRV5wdCxz5kWW/MpwLdB3K0yjQvQZ2o+ZfBvM+MEiZz5v5DO+v+H81HC1V7CK7arAHdV3IsPYF2T4PWGAhhySdWD/eTI+O2+FsvzdgNs7JOKUP6o/Fiv00BLZW5dn3S0V3s7Y7kM9YxzxTGY2wboMcYEZKawv5NlnL+2TTDXWptFEZRyOlFdklyrm54cYJQ6vMCnJZxuBWPp+bjyOELLeZLRIOz1su9IGtMWrWhw0eZAfF5kY8mSglr06xWOJJl6bzino84Wh8sfR/opFOtOvcvJ3yutpFCEfp7/kmfRv2SQtJ/vB3+E1GQtlHkVE+b4RQIK9k8fFnvOlGw29IM311IRDhs0ORlmmcWJ2P7G1nEP1gMDzk9XyMGzwAkB8HVKLWNwBB5fkosDfXpHcQQvr7QOfpDg/3Shzam4agkQPQjT1SYWV08aUat6HgFNuZ9mlLP+xRCruv7ukF02SKUuTtzUf4pFAEsH0Ybb3gdRNft4EHe9LGbsvzsnyVZA1QOz/Mtazr9nBETy5H0gGtk+2bowzOTdTOhjb7I2xSOPJzC0kjpM/P10E/fRzCjIryHIqIqBBkZeZSPnVT7i6klkdj3CjjDu4ImhSNkM93IUfWuYL+4BpMi8pCyHtbEX+vcV8f+I4qRNaWTchRe6v56H5s/TocEaP8eQLgNzYKEeVvItvs5Q/dLX6m/qR+tzvHiJcXM3moWf+bczv8Gh7lKdNuTKjZkIJ9Ofic6bFmj5h0ju2m2cvr4sXXiD6hiBibj0Pfst7U5n9+JuVA183yWbtdn+g/FjGj0pBlfKmH9YGe7CSo8YQ9rTYVNJLaraP+IN9vjON+wk2ky4bEbvDtzVddGAtk7PpRU3FNnl/PDgl3pQ/Yo1fDFXd4dZE3LTCfuqYbNQ7RSENeEU9wRGdfhBVlIW1zLvQqQ4W5HKzbvXSNel2lHS72uy2c0gfZakf6IfvxNZoyyUheyFHzSxqfevsgewv5VpHam0h0HHsfiny/sUZsU5m7H2n3hmCAj1JnZSXJ1x9IL+QW7bCNdG4eQbpm52ZPniSjVWZGKZ0fMhA9OkSRu/cIhNM4kvaZmlc5Pm8Z0d4HlhjHqJjJFl7QJBzGE00aX5zRuQmdjz9892xC2ueFDe9b2cdsWop7e7CzjK5Lt4YpEL5+gXyN0kMnIV6fjCw+D79y/06kjnoEIQ1j8G9Hs31ezO/hKERv3oYsdvJkJzzEYdwI1svKnNKsNbMRPXO6siRsQ+XIIATcIh/qADKSc+Qam5aZjp+5BjkjZ/HjS5Hx7L0IGBZJ6ZMxLiIBGfJxjHLo99BP2/bKpkNqkZM8GQP6PaCUFTYbiTzHMXzurEVd3NFoENE2N7c5yrCNHCDsZGUo+oTRuTgenmTNcj4NclXsr9WMUg8PcqsMlJq9aLpjDRl1UDQiGoJchh+iU/ci+koGYvp1x4DIRUgvsnEWqzXQUE+Yy8EdqaDMhVd4bZWnGTUbcoQzc6a10Bzlkf20ATJOMT023f/s+4Qfxk2j0OajXbLd5O9NB+aEI8R4UjFDq02p05R+cnYssI3Jj5pK88hjorntkPrs6zWIHHInHpg2HZGTRyPmNZ6hAuthzf7bOwqp/44GPpmNgO6DELlkGwpszb89lYG4YXciOIJsd8oEjFuovdebU8+u6MM+an7pjpAXM5E8qACLwnuRvc9Gyle2Ahkf5ULuu1KNgRH3w5NpSDTWSUvKkRDE3KUEd663UavMxMn9SP/cHxW57BOZa2jZiQJPf2R9sl+lHY7PW03F5hilgt+oGMSyF8LNloihPFPG+XjCufHFCZ2b4TFiIbJSglCwZBz8+t2LmORcfoOyibiHYNycbkjdk0sblcjOTEP0tHDLi+ffiGYLdNElBOEzM7DjYKl8wus2eyyUWJ+ccSQQNncjdny03WyZw/MdwV96i3rF6vjlCKcTtf4TCoB/nIUdX2cq6emJCOdHGuuurKrh2w44nILoJX5Y8Z+vlLKy1iKBZzlGqQtXzOuiwewS/fiz6fpaaI4ybGOoIlOe7E9Gx+9mWl3JyfljlTp0XdgOVtPaDQYyXTJasxccYlK2IvFKImJe2GU5QOkCEZ20BXnlxUh7+BRiZq1TglBzOvsihP2ay1FbA/axtIAeam9R2EEur5KJ6TTqNuQIH/iNpRDs9Bm+3VSao7waGH4BIshmjDblsv858AndiLGI+SQD2afYHSpfxIyxXapWm1Kjqf3k1FhgB5MfNZXmkcdEc9thPlKiFsHv9Twc+oTZSyZSX+RZ9pD91wcDemv3X92gKKzYehgVRRsRemo2Yt63HinKkfHadJQ+vgN5Wdx2l2nv9ebTswv6UMWBX7b1Q9j8tTh04r/IXuSLrX9aZvMzUwH9Z1FglIEcjW/iy37oG41Eizq3Y8VY1mdNbKNGmfM/XYfs8dGIHtUfgQOVJWxSBMI+X4cMuxdrjs9bTUUZoyqa72sVLsQTTo8vGnVujd+oeUj94gTO7F4K322jkfiZhoM0EDhmFgasz6LzQTayNs9C+Ajzm2C/Hc0X6JIhhoyfh5ydy5C8xg8RI41d5YcBo4YidcMm5Jvr8pz9NwQtcceA+2ZB/9YmZJjfKGCPL5lBXrG0yspTerOrE6Xu7E3bkM0/mG04nYc8O2//op5OpnyVYTit4UqZjlHa4YeQiaHIWL9N+X4h41Q6UpN9ED+cn/zbutP1IpVp93JNQxlaOUntNE4dKN+F1PXZCB8VTAOCO4LIyH03piLd+Mi4MhtplB82eqjsYB73hSLeJw2pW4ytp6uzLTQ4jQpFEBsLjHgFIjY1DWHfTEbMUuO0FQrMjV3SVgf/2+0MQb1HIGJUBtVhupos3bYeKT7zEDKIJzhD70CEDaF2bN4FvXEwrNI4YqnakCOozyY9Av2aZUj6vBD68kJkrd2ELJ7rPK6VV5qf1/D4V//ZOrqqDkfYUHbyaqL/OfIJHV3gPncIO15LQXJvOlnZeUyl2abUaGI/OTUWGLHrRwT5Mw7mNdyF1FSe2Xjhkjx2aW47pDZbjLflKC3j62bk5efzx5+VKNhM/ts/BiF3y1lWkK7IHEvN7/bW0ljBV9ElAH52hgqLi1f2OavT2nvdaT2TjRmr0+fmIAezENiHbWnTh3bU/dLQcGfbHb53+MlPumyhezgKiUMykPDXRUg/yr+SwM6N1P+lvL0M45cGPPqHIEafjLRPLBqjPFpvYhu1yaxM2YieFIUw+QsRfBkbjYjx+di6l1/oNDpXOj5vNRVZNz7pSNti+udCBq3nEFtoiSfUxhdrbMQPWu3EArM2edziB7+b+UZzwKahBKYh7bVtyHpuLEKujzi3OQNdUtqIcMSd3Ib00EcQZvZYNPCva7HVfxcienXGgLDRGNCZfv+a0bjT7aB7eCnS5+qRcGdnBAwbjWD2+1ASDtGI4Pvg44i9uADBQ0ZToDMIseQnAfw4Bqs77e50xPTpDK/Od+KBJYXwshdIDQlH8sM7EHnPvQgbNgiRb+vhO5bn2SBw1FKE5MzGgMe2yQbtN3U5tgbtRzS104va6DXwTeD1rYiXp3AQPiGIfs4LqX9UZEmy8SFyh2VoxHeoB/KfvVcp48445I/YgsRJyp0WjxHxpM9aJA7kdfSajRzKXzGVDxfuIYhPj4dhxSAlv3MvxHw1AluTohoPKJ5Dad9MhO2fgIgVFLTS4JM4jI6h/hgXNgjdYguR8CadLPjuJvzku75BB6LhJ9dBNrEKWEH12nr07RgKutdReV/HIcBHKS8gzMadZBs4siFH+I5Pxo5l/sj72wLEPL8OpXeNUO5Wu4jz5fkg2CMfcUzvrN3PHkXIB68ggvtgk/zPoU+4I2RCHEq3bEPYpFD7d1acsSk7NLWfnBoLOGp+5Ds8AjEd12Dcbay8QZj2jh7dVMqzHi9ckUeN5rXDoQhPDsWOyAEIDrsXAyKTofe1vpMaioBz6xHWT+nP4LfJf1NiYWOKNhGI8EXhyH7sTlmXMRRoVe5PRDCzxbAJ1J/dEffdQiRNsx4pfBA2cw4M8SQDs917n0YeTPP6teCUno+myP4h+9FjuxD27hw+J1SLPpzDvl8WIm0K6enOezFu/L0ICF4DvwY5rKFx7x9f0VheiMQH7oRfd5K9ey/4hUxDBgsIbwlBJI3rSX/i3zDuEoql5Idnlirlhw1jvw9gRS4Lr5vSRo0yf70LyUdt3emjfp4Ujfw1u+jigm02Plc6PG81Fa4bw+p7G85JwQuzLYJVp9AQT6iNL41opBNn7MREwZbJCKDjg8dPoFjqXqTcshGxDzs4SDNsOttopG8pRdyEECcmglxbWrE30vj6tYddaTJ/aquDzmIiu0bYpO4qVoAHdDrz0ZRdkRrg7qlT5rjYoorqZvVqCKLYRPxaD2372oS3U1UeRzRHGQy1dhv1qdJWWReN9O0Y5TiSX0fyK0l2cbUOu7A2X3G2PA02pJlcJHaOhse/TyC+CYGLCe3lMV1Sw23rvAn+12SfMKNp/d0M/eTEWNCA3WMUedR8yCGuyKOJZrBDTb7EdMDMzpUGcP05sgfZdps4RmjVs9xm+rXVp5r04ST2/JLLod3WNeqSY3eMbkobnZbZBTSct5qKrBvr/nARTWMn05urY4ArOjfqsJnaaI5h/zIMSPBC+j6t01OvPb9uoCsQtEAqT+bjTEc/+HWmgaa+Evlb5iNiUwDSM+Yh0IWBq7nLE9wYCLsRCAS/KVdKkRYzCBmjDmNrc91pbwaadeqCQHAj4l6Vg5SoB9GNTZnoHoyY/QFIXed6cNHc5QluDITdCASC34r8VXfCy2cQkjpubL7pJM2EuKMrEAgEAoFAIGiRiDu6AoFAIBAIBIIWiQh0BQKBQCAQCAQtEOD/AxAF6s+sm57CAAAAAElFTkSuQmCC)"
      ],
      "metadata": {
        "id": "4gQd1HFxvFcA"
      }
    },
    {
      "cell_type": "code",
      "source": [
        "review_titles = soup2.find_all('a', class_='a-size-base a-link-normal review-title a-color-base review-title-content a-text-bold')\n",
        "title_review"
      ],
      "metadata": {
        "colab": {
          "base_uri": "https://localhost:8080/"
        },
        "id": "a1efKjHUWiu8",
        "outputId": "79ab5970-e0b4-454a-c008-9721edd26903"
      },
      "execution_count": null,
      "outputs": [
        {
          "output_type": "execute_result",
          "data": {
            "text/plain": [
              "[<a class=\"a-size-base a-link-normal review-title a-color-base review-title-content a-text-bold\" data-hook=\"review-title\" href=\"/gp/customer-reviews/RGAVUWKBZKTQ1/ref=cm_cr_arp_d_rvw_ttl?ie=UTF8&amp;ASIN=B07RFSSYBH\">\n",
              " <i class=\"a-icon a-icon-star a-star-5 review-rating\" data-hook=\"review-star-rating\">\n",
              " <span class=\"a-icon-alt\">\n",
              "                   5.0 out of 5 stars\n",
              "                  </span>\n",
              " </i>\n",
              " <span class=\"a-letter-space\">\n",
              " </span>\n",
              " <span>\n",
              "                  Updated review after 100 days building small yet lasting habits.\n",
              "                 </span>\n",
              " </a>,\n",
              " <a class=\"a-size-base a-link-normal review-title a-color-base review-title-content a-text-bold\" data-hook=\"review-title\" href=\"/gp/customer-reviews/R1WFOC833OWEC9/ref=cm_cr_arp_d_rvw_ttl?ie=UTF8&amp;ASIN=B07RFSSYBH\">\n",
              " <i class=\"a-icon a-icon-star a-star-5 review-rating\" data-hook=\"review-star-rating\">\n",
              " <span class=\"a-icon-alt\">\n",
              "                   5.0 out of 5 stars\n",
              "                  </span>\n",
              " </i>\n",
              " <span class=\"a-letter-space\">\n",
              " </span>\n",
              " <span>\n",
              "                  Excellent book\n",
              "                 </span>\n",
              " </a>,\n",
              " <a class=\"a-size-base a-link-normal review-title a-color-base review-title-content a-text-bold\" data-hook=\"review-title\" href=\"/gp/customer-reviews/R2B8T1OQ2OHN2C/ref=cm_cr_arp_d_rvw_ttl?ie=UTF8&amp;ASIN=B07RFSSYBH\">\n",
              " <i class=\"a-icon a-icon-star a-star-5 review-rating\" data-hook=\"review-star-rating\">\n",
              " <span class=\"a-icon-alt\">\n",
              "                   5.0 out of 5 stars\n",
              "                  </span>\n",
              " </i>\n",
              " <span class=\"a-letter-space\">\n",
              " </span>\n",
              " <span>\n",
              "                  Huge toolkit of actionable, practical, organized strategies to build positive habits\n",
              "                 </span>\n",
              " </a>,\n",
              " <a class=\"a-size-base a-link-normal review-title a-color-base review-title-content a-text-bold\" data-hook=\"review-title\" href=\"/gp/customer-reviews/RP25YDDWSYMKE/ref=cm_cr_arp_d_rvw_ttl?ie=UTF8&amp;ASIN=B07RFSSYBH\">\n",
              " <i class=\"a-icon a-icon-star a-star-4 review-rating\" data-hook=\"review-star-rating\">\n",
              " <span class=\"a-icon-alt\">\n",
              "                   4.0 out of 5 stars\n",
              "                  </span>\n",
              " </i>\n",
              " <span class=\"a-letter-space\">\n",
              " </span>\n",
              " <span>\n",
              "                  good book\n",
              "                 </span>\n",
              " </a>,\n",
              " <a class=\"a-size-base a-link-normal review-title a-color-base review-title-content a-text-bold\" data-hook=\"review-title\" href=\"/gp/customer-reviews/R3U1QXYLWWSXLZ/ref=cm_cr_arp_d_rvw_ttl?ie=UTF8&amp;ASIN=B07RFSSYBH\">\n",
              " <i class=\"a-icon a-icon-star a-star-5 review-rating\" data-hook=\"review-star-rating\">\n",
              " <span class=\"a-icon-alt\">\n",
              "                   5.0 out of 5 stars\n",
              "                  </span>\n",
              " </i>\n",
              " <span class=\"a-letter-space\">\n",
              " </span>\n",
              " <span>\n",
              "                  Life changing advice and strategies!\n",
              "                 </span>\n",
              " </a>,\n",
              " <a class=\"a-size-base a-link-normal review-title a-color-base review-title-content a-text-bold\" data-hook=\"review-title\" href=\"/gp/customer-reviews/R70DPVGHV0NMC/ref=cm_cr_arp_d_rvw_ttl?ie=UTF8&amp;ASIN=B07RFSSYBH\">\n",
              " <i class=\"a-icon a-icon-star a-star-5 review-rating\" data-hook=\"review-star-rating\">\n",
              " <span class=\"a-icon-alt\">\n",
              "                   5.0 out of 5 stars\n",
              "                  </span>\n",
              " </i>\n",
              " <span class=\"a-letter-space\">\n",
              " </span>\n",
              " <span>\n",
              "                  In my top 5!\n",
              "                 </span>\n",
              " </a>,\n",
              " <a class=\"a-size-base a-link-normal review-title a-color-base review-title-content a-text-bold\" data-hook=\"review-title\" href=\"/gp/customer-reviews/R2XP2P7JPYMHH1/ref=cm_cr_arp_d_rvw_ttl?ie=UTF8&amp;ASIN=B07RFSSYBH\">\n",
              " <i class=\"a-icon a-icon-star a-star-5 review-rating\" data-hook=\"review-star-rating\">\n",
              " <span class=\"a-icon-alt\">\n",
              "                   5.0 out of 5 stars\n",
              "                  </span>\n",
              " </i>\n",
              " <span class=\"a-letter-space\">\n",
              " </span>\n",
              " <span>\n",
              "                  Distilled and clear ideas made into a simple system of behavior change. Top notch!\n",
              "                 </span>\n",
              " </a>,\n",
              " <a class=\"a-size-base a-link-normal review-title a-color-base review-title-content a-text-bold\" data-hook=\"review-title\" href=\"/gp/customer-reviews/R2PS7SRZW6GN96/ref=cm_cr_arp_d_rvw_ttl?ie=UTF8&amp;ASIN=B07RFSSYBH\">\n",
              " <i class=\"a-icon a-icon-star a-star-5 review-rating\" data-hook=\"review-star-rating\">\n",
              " <span class=\"a-icon-alt\">\n",
              "                   5.0 out of 5 stars\n",
              "                  </span>\n",
              " </i>\n",
              " <span class=\"a-letter-space\">\n",
              " </span>\n",
              " <span>\n",
              "                  Best personal improvement, business, and self-help books I’ve read\n",
              "                 </span>\n",
              " </a>,\n",
              " <a class=\"a-size-base a-link-normal review-title a-color-base review-title-content a-text-bold\" data-hook=\"review-title\" href=\"/gp/customer-reviews/R34AMEUAT6VPCP/ref=cm_cr_arp_d_rvw_ttl?ie=UTF8&amp;ASIN=B07RFSSYBH\">\n",
              " <i class=\"a-icon a-icon-star a-star-5 review-rating\" data-hook=\"review-star-rating\">\n",
              " <span class=\"a-icon-alt\">\n",
              "                   5.0 out of 5 stars\n",
              "                  </span>\n",
              " </i>\n",
              " <span class=\"a-letter-space\">\n",
              " </span>\n",
              " <span>\n",
              "                  Way better than I was expecting\n",
              "                 </span>\n",
              " </a>,\n",
              " <a class=\"a-size-base a-link-normal review-title a-color-base review-title-content a-text-bold\" data-hook=\"review-title\" href=\"/gp/customer-reviews/RDA919LLMMLIL/ref=cm_cr_arp_d_rvw_ttl?ie=UTF8&amp;ASIN=B07RFSSYBH\">\n",
              " <i class=\"a-icon a-icon-star a-star-5 review-rating\" data-hook=\"review-star-rating\">\n",
              " <span class=\"a-icon-alt\">\n",
              "                   5.0 out of 5 stars\n",
              "                  </span>\n",
              " </i>\n",
              " <span class=\"a-letter-space\">\n",
              " </span>\n",
              " <span>\n",
              "                  Atomic Habits will change your life! 9 takeaways:\n",
              "                 </span>\n",
              " </a>]"
            ]
          },
          "metadata": {},
          "execution_count": 12
        }
      ]
    },
    {
      "cell_type": "code",
      "source": [
        "review_titles2  = soup2.find_all('a', class_ = 'review-title')\n",
        "review_titles2"
      ],
      "metadata": {
        "colab": {
          "base_uri": "https://localhost:8080/"
        },
        "id": "HocMuwqqwZ6Y",
        "outputId": "e3d3d6e7-acb6-449d-e24e-07a6c7515434"
      },
      "execution_count": null,
      "outputs": [
        {
          "output_type": "execute_result",
          "data": {
            "text/plain": [
              "[<a class=\"a-size-base a-link-normal review-title a-color-base review-title-content a-text-bold\" data-hook=\"review-title\" href=\"/gp/customer-reviews/RGAVUWKBZKTQ1/ref=cm_cr_arp_d_rvw_ttl?ie=UTF8&amp;ASIN=B07RFSSYBH\">\n",
              " <i class=\"a-icon a-icon-star a-star-5 review-rating\" data-hook=\"review-star-rating\">\n",
              " <span class=\"a-icon-alt\">\n",
              "                   5.0 out of 5 stars\n",
              "                  </span>\n",
              " </i>\n",
              " <span class=\"a-letter-space\">\n",
              " </span>\n",
              " <span>\n",
              "                  Updated review after 100 days building small yet lasting habits.\n",
              "                 </span>\n",
              " </a>,\n",
              " <a class=\"a-size-base a-link-normal review-title a-color-base review-title-content a-text-bold\" data-hook=\"review-title\" href=\"/gp/customer-reviews/R1WFOC833OWEC9/ref=cm_cr_arp_d_rvw_ttl?ie=UTF8&amp;ASIN=B07RFSSYBH\">\n",
              " <i class=\"a-icon a-icon-star a-star-5 review-rating\" data-hook=\"review-star-rating\">\n",
              " <span class=\"a-icon-alt\">\n",
              "                   5.0 out of 5 stars\n",
              "                  </span>\n",
              " </i>\n",
              " <span class=\"a-letter-space\">\n",
              " </span>\n",
              " <span>\n",
              "                  Excellent book\n",
              "                 </span>\n",
              " </a>,\n",
              " <a class=\"a-size-base a-link-normal review-title a-color-base review-title-content a-text-bold\" data-hook=\"review-title\" href=\"/gp/customer-reviews/R2B8T1OQ2OHN2C/ref=cm_cr_arp_d_rvw_ttl?ie=UTF8&amp;ASIN=B07RFSSYBH\">\n",
              " <i class=\"a-icon a-icon-star a-star-5 review-rating\" data-hook=\"review-star-rating\">\n",
              " <span class=\"a-icon-alt\">\n",
              "                   5.0 out of 5 stars\n",
              "                  </span>\n",
              " </i>\n",
              " <span class=\"a-letter-space\">\n",
              " </span>\n",
              " <span>\n",
              "                  Huge toolkit of actionable, practical, organized strategies to build positive habits\n",
              "                 </span>\n",
              " </a>,\n",
              " <a class=\"a-size-base a-link-normal review-title a-color-base review-title-content a-text-bold\" data-hook=\"review-title\" href=\"/gp/customer-reviews/RP25YDDWSYMKE/ref=cm_cr_arp_d_rvw_ttl?ie=UTF8&amp;ASIN=B07RFSSYBH\">\n",
              " <i class=\"a-icon a-icon-star a-star-4 review-rating\" data-hook=\"review-star-rating\">\n",
              " <span class=\"a-icon-alt\">\n",
              "                   4.0 out of 5 stars\n",
              "                  </span>\n",
              " </i>\n",
              " <span class=\"a-letter-space\">\n",
              " </span>\n",
              " <span>\n",
              "                  good book\n",
              "                 </span>\n",
              " </a>,\n",
              " <a class=\"a-size-base a-link-normal review-title a-color-base review-title-content a-text-bold\" data-hook=\"review-title\" href=\"/gp/customer-reviews/R3U1QXYLWWSXLZ/ref=cm_cr_arp_d_rvw_ttl?ie=UTF8&amp;ASIN=B07RFSSYBH\">\n",
              " <i class=\"a-icon a-icon-star a-star-5 review-rating\" data-hook=\"review-star-rating\">\n",
              " <span class=\"a-icon-alt\">\n",
              "                   5.0 out of 5 stars\n",
              "                  </span>\n",
              " </i>\n",
              " <span class=\"a-letter-space\">\n",
              " </span>\n",
              " <span>\n",
              "                  Life changing advice and strategies!\n",
              "                 </span>\n",
              " </a>,\n",
              " <a class=\"a-size-base a-link-normal review-title a-color-base review-title-content a-text-bold\" data-hook=\"review-title\" href=\"/gp/customer-reviews/R70DPVGHV0NMC/ref=cm_cr_arp_d_rvw_ttl?ie=UTF8&amp;ASIN=B07RFSSYBH\">\n",
              " <i class=\"a-icon a-icon-star a-star-5 review-rating\" data-hook=\"review-star-rating\">\n",
              " <span class=\"a-icon-alt\">\n",
              "                   5.0 out of 5 stars\n",
              "                  </span>\n",
              " </i>\n",
              " <span class=\"a-letter-space\">\n",
              " </span>\n",
              " <span>\n",
              "                  In my top 5!\n",
              "                 </span>\n",
              " </a>,\n",
              " <a class=\"a-size-base a-link-normal review-title a-color-base review-title-content a-text-bold\" data-hook=\"review-title\" href=\"/gp/customer-reviews/R2XP2P7JPYMHH1/ref=cm_cr_arp_d_rvw_ttl?ie=UTF8&amp;ASIN=B07RFSSYBH\">\n",
              " <i class=\"a-icon a-icon-star a-star-5 review-rating\" data-hook=\"review-star-rating\">\n",
              " <span class=\"a-icon-alt\">\n",
              "                   5.0 out of 5 stars\n",
              "                  </span>\n",
              " </i>\n",
              " <span class=\"a-letter-space\">\n",
              " </span>\n",
              " <span>\n",
              "                  Distilled and clear ideas made into a simple system of behavior change. Top notch!\n",
              "                 </span>\n",
              " </a>,\n",
              " <a class=\"a-size-base a-link-normal review-title a-color-base review-title-content a-text-bold\" data-hook=\"review-title\" href=\"/gp/customer-reviews/R2PS7SRZW6GN96/ref=cm_cr_arp_d_rvw_ttl?ie=UTF8&amp;ASIN=B07RFSSYBH\">\n",
              " <i class=\"a-icon a-icon-star a-star-5 review-rating\" data-hook=\"review-star-rating\">\n",
              " <span class=\"a-icon-alt\">\n",
              "                   5.0 out of 5 stars\n",
              "                  </span>\n",
              " </i>\n",
              " <span class=\"a-letter-space\">\n",
              " </span>\n",
              " <span>\n",
              "                  Best personal improvement, business, and self-help books I’ve read\n",
              "                 </span>\n",
              " </a>,\n",
              " <a class=\"a-size-base a-link-normal review-title a-color-base review-title-content a-text-bold\" data-hook=\"review-title\" href=\"/gp/customer-reviews/R34AMEUAT6VPCP/ref=cm_cr_arp_d_rvw_ttl?ie=UTF8&amp;ASIN=B07RFSSYBH\">\n",
              " <i class=\"a-icon a-icon-star a-star-5 review-rating\" data-hook=\"review-star-rating\">\n",
              " <span class=\"a-icon-alt\">\n",
              "                   5.0 out of 5 stars\n",
              "                  </span>\n",
              " </i>\n",
              " <span class=\"a-letter-space\">\n",
              " </span>\n",
              " <span>\n",
              "                  Way better than I was expecting\n",
              "                 </span>\n",
              " </a>,\n",
              " <a class=\"a-size-base a-link-normal review-title a-color-base review-title-content a-text-bold\" data-hook=\"review-title\" href=\"/gp/customer-reviews/RDA919LLMMLIL/ref=cm_cr_arp_d_rvw_ttl?ie=UTF8&amp;ASIN=B07RFSSYBH\">\n",
              " <i class=\"a-icon a-icon-star a-star-5 review-rating\" data-hook=\"review-star-rating\">\n",
              " <span class=\"a-icon-alt\">\n",
              "                   5.0 out of 5 stars\n",
              "                  </span>\n",
              " </i>\n",
              " <span class=\"a-letter-space\">\n",
              " </span>\n",
              " <span>\n",
              "                  Atomic Habits will change your life! 9 takeaways:\n",
              "                 </span>\n",
              " </a>]"
            ]
          },
          "metadata": {},
          "execution_count": 51
        }
      ]
    },
    {
      "cell_type": "markdown",
      "source": [
        "Seems like it worked but got also uncessary HTML tags. We will again do the same process for removing html tags and only get the text by get_text and strip methods."
      ],
      "metadata": {
        "id": "J4ZShZE4vqc_"
      }
    },
    {
      "cell_type": "code",
      "source": [
        "review_title = [title.get_text(strip=True).split(' out of 5 stars', 1)[-1] for title in review_titles2]\n",
        "review_title"
      ],
      "metadata": {
        "colab": {
          "base_uri": "https://localhost:8080/"
        },
        "id": "f9TnX4ceWaJI",
        "outputId": "52bb5e86-a50f-4966-d76a-05287e158102"
      },
      "execution_count": null,
      "outputs": [
        {
          "output_type": "execute_result",
          "data": {
            "text/plain": [
              "['Updated review after 100 days building small yet lasting habits.',\n",
              " 'Excellent book',\n",
              " 'Huge toolkit of actionable, practical, organized strategies to build positive habits',\n",
              " 'good book',\n",
              " 'Life changing advice and strategies!',\n",
              " 'In my top 5!',\n",
              " 'Distilled and clear ideas made into a simple system of behavior change. Top notch!',\n",
              " 'Best personal improvement, business, and self-help books I’ve read',\n",
              " 'Way better than I was expecting',\n",
              " 'Atomic Habits will change your life! 9 takeaways:']"
            ]
          },
          "metadata": {},
          "execution_count": 61
        }
      ]
    },
    {
      "cell_type": "markdown",
      "source": [
        "So, these are the **titles** of the reviews on the first pages. Nice work!"
      ],
      "metadata": {
        "id": "7Z4iqO2k_4tl"
      }
    },
    {
      "cell_type": "markdown",
      "source": [
        "**LET'S NOW EXPLORE THE REVIEW CONTENT ELEMENTS. But wait! Are you thinking of how are you going to know this tag will give me that content?** This is the part I spent hours to find out the exact tag that i wanted. You can click on a review title and and right click to inspect element, there look for the mother tag of the item that you selected. By observing thus, i am pretty sure you will be able to identify the review tags. Otherwise, just follow along with the steps.... ✨\n"
      ],
      "metadata": {
        "id": "pADXisOCAJTC"
      }
    },
    {
      "cell_type": "code",
      "source": [
        "review_elements = soup2.select(\"div.review\")\n",
        "# review_elements"
      ],
      "metadata": {
        "id": "M27dKFU5WvGF"
      },
      "execution_count": null,
      "outputs": []
    },
    {
      "cell_type": "markdown",
      "source": [
        "After checking with the inspect element, we got to know he right class tag for the review content is : **'a-size-base review-text review-text-content'** under the span tag. Please be careful - for your case, the class and mother tag might be different. If you're unable to find out the review tag because of too much nested html tags, just copy a block of review and ask **ChatGPT** to find out the tag for you!!!  ☝\n",
        "\n"
      ],
      "metadata": {
        "id": "6B4Zg5DOEkiw"
      }
    },
    {
      "cell_type": "code",
      "source": [
        "review_texts = soup2.find_all('span', {'class': 'a-size-base review-text review-text-content'})\n",
        "review_texts"
      ],
      "metadata": {
        "colab": {
          "base_uri": "https://localhost:8080/"
        },
        "id": "9sFkv1s9WySA",
        "outputId": "3efe0e9f-1e27-4e8c-85c9-439d7acc55fc"
      },
      "execution_count": null,
      "outputs": [
        {
          "output_type": "execute_result",
          "data": {
            "text/plain": [
              "[<span class=\"a-size-base review-text review-text-content\" data-hook=\"review-body\">\n",
              " <span>\n",
              "                  I previously wrote this review right after reading the book.  Today, February 15th, after applying James’s system for 100 days on a few tiny habits, I feel compelled to share updates with you because they have sincerely worked.\n",
              "                  <br/>\n",
              " <br/>\n",
              "                  I will divide the review into 5 parts.  The first part is a summary of the book with short excerpts highlighted while taking notes.  Next, I hope to share pieces of advice that have motivated me while building new habits.  Following that, I will share how I implemented the first 3 habits throughout these months.  Then, some thoughts to whom I would recommend reading the book.  Last, there are 4 complementary readings.\n",
              "                  <br/>\n",
              " <br/>\n",
              "                  SUMMARY\n",
              "                  <br/>\n",
              " <br/>\n",
              "                  [Introduction]  James starts by sharing personal strategies he implemented to recover from a serious accident in high school.  That event forced him to improve the quality of his routine to get his life in order, coming to the conclusion that “we all deal with setbacks, but in the long run, the quality of our lives often depends on the quality of our habits.  With the same habits, you will end up with the same results.  But with better habits, anything is possible.”\n",
              "                  <br/>\n",
              " <br/>\n",
              "                  [Section I  :  The Fundamentals]\n",
              "                  <br/>\n",
              " <br/>\n",
              "                  [Chapter 1]  Here we learn the power of compounding effect:  changes that seem small and unimportant at any given day will compound into remarkable results if we are willing to stick with them for months and years.  James explains that “breakthrough moments are often the result of many previous actions, which build up the potential required to unleash a major change.”  Comparing to habits, he shows that bamboo can barely be seen during the first couple of years while the roots grow underground before exploding for almost 100 feet into the air in a few weeks.  From that perspective, we come to understand the best outcomes are generally delayed.\n",
              "                  <br/>\n",
              " <br/>\n",
              "                  [Chapter 2]  Based on a 3-layer concentric circle behavior change model—divided into outcome change, process change, and identity change—James explains that we should pay attention to our inner identity by focusing on beliefs, assumptions, and values.  “Many people begin the process of changing their habits by focusing on what they want to achieve.  This leads us to outcome-based habits.  The alternative is to build identity-based habits.  With this approach, we start by focusing on who we wish to become.”  The strongest changes, then, happen from inside out, starting from our identity, passing through the process, and ultimately changing the outcome.\n",
              "                  <br/>\n",
              " <br/>\n",
              "                  [Chapter 3]  In this chapter we are introduced to a 4-step framework, which is composed of cue, craving, response, and reward.  James calls it 'The 4 Laws of Behavior Change'.  He then explains that we can think of each law as a lever that influences our behavior—when the levers are in the right positions, they create good habits effortless whereas when they are in the wrong position, it is nearly impossible.  Through examples, he explains that “the cue triggers a craving, which motivates a response, which provides a reward, which satisfies the craving and, ultimately, becomes associated with the cue.”  Together they create a habit loop that, when repeated many times, habits become automatic.\n",
              "                  <br/>\n",
              " <br/>\n",
              "                  [Section II  :  Make It Obvious]\n",
              "                  <br/>\n",
              " <br/>\n",
              "                  [Chapter 4]  A primer on how cues play a crucial role in predicting habit formation without consciously thinking about the outcomes.  Once our habits become so common, the cues associated with them become essentially invisible because they are deeply encoded.  If we want to create better habits, a good idea is to be aware of the cues.  James finishes up by sharing a strategy called 'Habits Scorecard'—a simple exercise to become more aware of our behavior on a daily basis.  We first write down a chronological list of our daily habits and, once we have a full list, we score each habit as an effective, ineffective, or neutral habit.  Besides noticing what is actually going on, we can notice if certain behaviors help us become the type of person we wish to be.\n",
              "                  <br/>\n",
              " <br/>\n",
              "                  [Chapter 5]  The cues that can trigger a habit come in a wide range of forms, and the 2 most common cues are time and location.  When we make a specific plan for when and where we will perform a new habit, we are more likely to follow through.  Stacking our habits by pairing a new habit with a current habit is a form to connect our behavior to our own advantage.  An example when building a daily journaling habit would be: “after I pour my cup of coffee each morning, I will journal for 5 minutes.”\n",
              "                  <br/>\n",
              " <br/>\n",
              "                  [Chapter 6]  This chapter shows how our environment plays a crucial role in defining habit behaviors.  “Given that we are more dependent on vision than any other sense, it should come as no surprise that visual cues are the greatest catalyst of our behavior.”  To build good habits, then, we should either make desirable cues obvious in our environment or build new habits in a new environment to avoid fighting against old ones.\n",
              "                  <br/>\n",
              " <br/>\n",
              "                  [Chapter 7]  One of the most practical ways to break a bad habit is to reduce exposure to the cue that causes it.  As James points out, “it is easier to avoid temptation than resist it.”\n",
              "                  <br/>\n",
              " <br/>\n",
              "                  [Section III  :  Make It Attractive]\n",
              "                  <br/>\n",
              " <br/>\n",
              "                  [Chapter 8]  James explains how the modern food industry has created products that are more attractive and addictive to consumers, and by doing so he shows that the more attractive an opportunity is, the more likely it is to become habit-forming.  Every behavior that is highly habit-forming tends to be associated with higher levels of dopamine.  It is the anticipation of a reward that motivates us to take action.  “Temptation bundling is one way to make your habits more attractive.  The strategy is to pair an action you want to do with an action you need to do.”\n",
              "                  <br/>\n",
              " <br/>\n",
              "                  [Chapter 9]  “We tend to adopt habits that are praised and approved of by our culture because we have a strong desire to fit in and belong to the tribe.”  That said, it is common to pick up habits and behaviors from our parents, peers, and colleagues.  There is also a tremendous internal pressure to comply with the norms of the tribe.  And, finally, we try to copy the behavior of successful people because we desire success ourselves.  One of the best strategies to build better habits is to join a culture where the desired behavior is the normal behavior.\n",
              "                  <br/>\n",
              " <br/>\n",
              "                  [Chapter 10]  To avoid unnecessary and detrimental cravings, we should highlight the benefits of avoiding a bad habit by making it seem unattractive.  “Habits are unattractive when we associate them with negative feelings.”\n",
              "                  <br/>\n",
              " <br/>\n",
              "                  [Section IV  :  Make It Easy]\n",
              "                  <br/>\n",
              " <br/>\n",
              "                  [Chapter 11]  “All habits follow a similar trajectory from effortful practice to automatic behavior, a process known as automaticity.  Automaticity is the ability to perform a behavior without thinking about each step, which occurs when the nonconscious mind takes over.”  The key component is to pay close attention to the frequency we perform a habit, not much for how long we have been practicing it.\n",
              "                  <br/>\n",
              " <br/>\n",
              "                  [Chapter 12]  Since every action requires a certain amount of energy, we are motivated to do what is easy.  By contrast, the more energy required, the less likely it is to occur.  “You don't actually want the habit itself.  What you really want is the outcome the habit delivers.  The greater the obstacle, the more friction there is between you and your desired end state.”  That is why we should reduce the friction associated with our habits by creating a prosperous environment to make future actions easier.\n",
              "                  <br/>\n",
              " <br/>\n",
              "                  [Chapter 13]  There are decisive moments that deliver an outsized impact every single day.  As James puts, these decisive moments are a fork in the road, sending us in the direction of a productive path or an unproductive one.  To avoid procrastination, the skill of 'Showing Up' says that we should start a new habit by taking baby steps, making it as easy as possible to take action.  “A new habit should not feel like a challenge.  The actions that follow can be challenging, but the first 2 minutes should be easy.  What you want is a gateway habit that naturally leads you down a more productive path.”  He calls it the 'Two-Minute Rule', meaning that new habits should take less than 2 minutes to do in the beginning.  Once the habit is established we can improve and master the finer details.\n",
              "                  <br/>\n",
              " <br/>\n",
              "                  [Chapter 14]  In order to keep bad habits away is to make them difficult in the first place.  There are 2 interesting strategies to improve our future behavior.  [1] Make good choices in advance before we can fall victim to temptation in the future.  James gives a personal example by sharing that whenever he is looking to cut calories he will ask the waiter to split his meal and box half of it to go before the meal is served.  If, however, he waits for the meal to be served and tries to eat just half, that would never happen.  [2] Make onetime actions that can automate our future habits and deliver increasing returns over time such as buying a good water filter, unsubscribing from unwanted emails, moving to a friendlier neighborhood, buying a standing desk, or setting up automatic bill pay.\n",
              "                  <br/>\n",
              " <br/>\n",
              "                  [Section V  :  Make It Satisfying]\n",
              "                  <br/>\n",
              " <br/>\n",
              "                  [Chapter 15]  We should make sure to feel immediately satisfied after performing a new habit to increase the odds that the behavior will be repeated next time.  “The human brain has evolved to prioritize immediate rewards over delayed rewards.”  For that, we can add a little bit of immediate pleasure to the habits that pay off in the long-run.\n",
              "                  <br/>\n",
              " <br/>\n",
              "                  [Chapter 16]  Here we learn how to measure our progress by tracking our habits.  The immediate satisfaction it delivers—as mentioned earlier in Chapter 15—is one of the many benefits that standout.  Besides that, James says, “when we get a signal that we are moving forward, we become more motivated to continue down that path.”  The most basic format to track our habits is to get a calendar and mark an X each time we stick with our routine.  One of the most important passages of the entire book is as follows:  “If you miss one day, try to get back into it as quickly as possible.  The first mistake is never the one that ruins you.  It is the spiral of repeated mistakes that follows.  Missing once is an accident.  Missing twice is the start of a new habit.  This is a distinguishing feature between winners and losers.  Anyone can have a bad performance, a bad workout, or a bad day at work.  But when successful people fail, they rebound quickly.”\n",
              "                  <br/>\n",
              " <br/>\n",
              "                  [Chapter 17]  In order to prevent bad habits and/or eliminate unhealthy behaviors, James says that we could either add an instant cost to the action or make it painful.  A habit contract is also another strategy to hold our accountability:  “It is a verbal or written agreement in which you state your commitment to a particular habit and the punishment that will occur if you don't follow through.  Then you find one to two people to act as your accountability partners and sign off on the contract with you.”\n",
              "                  <br/>\n",
              " <br/>\n",
              "                  [Section VI  :  Advanced Techniques]\n",
              "                  <br/>\n",
              " <br/>\n",
              "                  [Chapter 18]  We learn how to distinguish habits when genes may or may not influence our performance especially for competitive activities.  “One of the best ways to ensure your habits remain satisfying over the long-run is to pick behaviors that align with your personality and skills.”  James proposes us to set some time apart to explore new activities in the beginning, before shifting our focus to exploit them thoroughly.\n",
              "                  <br/>\n",
              " <br/>\n",
              "                  [Chapter 19]  When we find the sweet spot of our ability we tend to learn best and fastest.  The ‘Goldilocks Rule’ states that \"humans experience peak motivation when working on tasks that are right on the edge of their current abilities.  Not too hard.  Not too easy.  Just right.”\n",
              "                  <br/>\n",
              " <br/>\n",
              "                  [Chapter 20]  One downside of certain habits, James explains, is that we may stop paying attention to the little details and errors.  To counterbalance that we should review and reflect on the process over time to remain conscious of our own performance.  Using a simple chart to convey his message, we learn that “the process of mastery requires that you progressively layer improvements on top of one another, each habit building upon the last until a new level of performance has been reached and a higher range of skills has been internalized.”\n",
              "                  <br/>\n",
              " <br/>\n",
              "                  PERSONAL THOUGHTS\n",
              "                  <br/>\n",
              " <br/>\n",
              "                  Reading the book twice helped me take better notes and capture details.  In the meantime, I thought about 3 simple strategies that could improve our adherence to new habits.  Let me share these strategies here with you, and in the following section, I will describe how I managed to cultivate the first 3 new habits upon reading the book—following the system proposed by James together with these 3 strategies.\n",
              "                  <br/>\n",
              " <br/>\n",
              "                  [1]  The first strategy is about determining a 'commitment time frame' to avoid excuses during this initial trial period.  A 1-month time frame is a fair commitment, choosing to start on the first day of the month to practice it every single day for a full month.  Just at the end of the period, I will take the time to reflect and evaluate the pros and cons.\n",
              "                  <br/>\n",
              " <br/>\n",
              "                  [2]  The next one is to choose only 1 new habit each month.  In doing so we become familiar with the practice intentionally while we develop a sense of purpose.\n",
              "                  <br/>\n",
              " <br/>\n",
              "                  [3]  Last, during the first month of any new habit, I noticed that if I spend time exploring the details and the benefits, my motivation stays high.  It doesn't only help us create better practices, but it is also inspiring to learn from others who have succeeded previously by adding the same habit into their lives.  Podcasts, articles, videos, books, online courses, tutorials, and blog posts are all good sources.\n",
              "                  <br/>\n",
              " <br/>\n",
              "                  IMPLEMENTATION OF NEW HABITS\n",
              "                  <br/>\n",
              " <br/>\n",
              "                  [Nov 1, 2018]  I had been wanting to journal on a daily basis for many years but that had never happened.  Although I have carried a notebook with me for quite a while, it has never worked as a real journal—a daily routine, when we sit down and write personal thoughts, intentions, and reflections at around the same time.  Instead, it has been mostly used to take notes during meetings, to write down ideas and thoughts, to express travel memories, and to doodle.  Today, after 3+ months, I haven't looked back once, and still can't believe it took me that long to start this daily habit.  During the first month, I read blog posts, watched videos, and even read a short and inexpensive book to foster my creativity.\n",
              "                  <br/>\n",
              " <br/>\n",
              "                  [Dec 1, 2018]  I have been impressed by the physical capabilities we can develop through body movement.  Although yoga has been a special part of my life since I was 18, I hadn't given proper attention to handstands.  But now, after 2+ months practicing it every day, it is rewarding to see improvements on a weekly basis.  Again, I definitely recommend watching videos and reading tutorials to find your favorite method.  This is the perfect habit to stack at the end or in the middle of any physical movement practice you may enjoy.\n",
              "                  <br/>\n",
              " <br/>\n",
              "                  [Jan 1, 2019]  By now we know the benefits of cold showers—ranging from healthier skin appearance all the way to a more resilient perspective of the world.  I had previously taken cold showers for 3 months in 2017, but it was a “goal” mindset instead of a “habit” mindset.  After that trial I set aside and, although I have kept taking cold showers once or twice a week since then, I wished cold showers was the default mode.  Now, after 1+ month, I can't see myself taking warm showers.  After all, it is about intention.  Again, we can learn uncountable benefits of cold showers by reading success stories.  One of my inspirations was Wim Hof.  It isn't comfortable in the beginning of any chosen day, but after 3-4 minutes, both my breath and thoughts calm down.\n",
              "                  <br/>\n",
              " <br/>\n",
              "                  Putting them together, these 3 habits don't take more than 30 minutes of my day.  While I spend about 10 minutes journaling and 10 more minutes practicing handstands, I save 5 minutes taking cold showers because I won't stay any longer than necessary.\n",
              "                  <br/>\n",
              " <br/>\n",
              "                  RECOMMENDATION\n",
              "                  <br/>\n",
              " <br/>\n",
              "                  [1]  First, if you have watched videos, listened to podcasts, read articles and books on habit formation and, after all that, you feel satisfied, then, please, save your money and time.\n",
              "                  <br/>\n",
              " <br/>\n",
              "                  [2]  However, if you are like me, that even after reading a few books on building habits and having successfully added good habits to your life, feel that there is still room for improvement, this book can be a terrific addition.\n",
              "                  <br/>\n",
              " <br/>\n",
              "                  [3]  Last, if you haven't spent much time and energy discovering a good system to build lasting habits while breaking bad ones, please, read this book.\n",
              "                  <br/>\n",
              " <br/>\n",
              "                  COMPLEMENTARY READINGS\n",
              "                  <br/>\n",
              " <br/>\n",
              "                  [1]  Game Changers, by Dave Asprey, exposed me to a wealth array of ideas/habits/tools that have helped me decide which new habit to build next.  The book is divided into 46 laws.\n",
              "                  <br/>\n",
              " <br/>\n",
              "                  [2]  Essentialism, by Greg McKeown, helped me focus on less but more important tasks, giving clarity to what matters most.  This is especially interesting to break bad habits.\n",
              "                  <br/>\n",
              " <br/>\n",
              "                  [3]  The Talent Code, by Daniel Coyle, brought more motivation when learning new skills based on the assumptions that we develop new talents through deep practices, finding our ignition identity, and having the right coach to guide us genuinely.  I read it many years ago, then, a few years back, I read his following book called The Little Book of Talent—which is perhaps even more to the point.\n",
              "                  <br/>\n",
              " <br/>\n",
              "                  [4]  The Systems View of Life, by Fritjof Capra, enlightened my perspectives on how nature and living beings are systematically integrated.  It is a profound and slightly academic book that can complement Atomic Habits especially to tie together the 4-step framework into the feedback loop system.\n",
              "                  <br/>\n",
              " <br/>\n",
              "                  I sincerely hope you, too, have fun while building new habits.\n",
              "                  <br/>\n",
              " <br/>\n",
              "                  Take care,\n",
              "                  <br/>\n",
              " <br/>\n",
              "                  Haical\n",
              "                 </span>\n",
              " </span>,\n",
              " <span class=\"a-size-base review-text review-text-content\" data-hook=\"review-body\">\n",
              " <span>\n",
              "                  \"Atomic Habits\" by James Clear is a transformative masterpiece that illuminates the power of small actions in creating significant life changes. Clear's meticulous research and practical insights establish him as a trusted authority in habit formation, enhancing the book's ethos. Through compelling anecdotes and real-life examples, he demonstrates how tiny habits compound over time to yield remarkable results, appealing to logos with empirical evidence. The book's structured approach to habit-building provides readers with actionable steps, making it accessible and applicable to anyone striving for personal growth. Clear's emphasis on the importance of environment and identity in shaping habits adds depth to his argument, reinforcing the credibility of his claims. By debunking common myths and offering clear strategies, \"Atomic Habits\" empowers readers to take control of their behaviors and forge a path towards success. Its engaging narrative style captivates from start to finish, ensuring readers stay motivated on their habit journey. Whether seeking to improve productivity, health, or relationships, this book equips individuals with the tools needed to make lasting changes. In summary, \"Atomic Habits\" is not just a book; it's a roadmap to a better, more intentional life, backed by solid research and practical wisdom\n",
              "                 </span>\n",
              " </span>,\n",
              " <span class=\"a-size-base review-text review-text-content\" data-hook=\"review-body\">\n",
              " <span>\n",
              "                  I've read a lot of books on changing behavior and building habits and James Clear's  Atomic Habits is my new favorite. This book is different from others in the way it covers an enormous amount of ground in the larger area of self-improvement while seamlessly tying all these ideas back into the central theme of habits.\n",
              "                  <br/>\n",
              " <br/>\n",
              "                  One of the core concepts in Atomic Habits is to focus on the small improvement. The impact a 1% improvement per day can make may appear negligible at first, but Clear makes a compelling argument that in the case of habits, thinking small produces the biggest results over time. \"Habits are the compound interest of self-improvement,\" explains Clear.\n",
              "                  <br/>\n",
              " <br/>\n",
              "                  Over the months and years, the accumulated effect of small habitual daily behaviors is staggering. Early in the book we are also warned that this compounding works both ways, so we'd better make sure we're making it work in the positive direction, not for the negative.\n",
              "                  <br/>\n",
              " <br/>\n",
              "                  This is a concept I was introduced to years ago under a different name - Kaizen - the Japanese term for continuous incremental improvement. What's different and new in this book is how the concept is applied specifically to building habits.\n",
              "                  <br/>\n",
              " <br/>\n",
              "                  I found the information introduced in chapter two about behavior change at the identity level to be spot-on. You're also given a simple two-step process for changing your identity and this one idea alone is incredibly powerful.\n",
              "                  <br/>\n",
              " <br/>\n",
              "                  In chapter three, we are introduced to the habit loop - cue, craving, response, reward - and we learn how to build good habits in 4 simple steps and break bad habits in 4 simple steps.\n",
              "                  <br/>\n",
              " <br/>\n",
              "                  One of those steps to habit formation, which goes hand in hand with the 1% concept, is how to make it not only small, but easy. In the chapters that follow, this is exactly what you find out.\n",
              "                  <br/>\n",
              " <br/>\n",
              "                  Other ideas of great value that stood out included, habit stacking (the best way to form a new habit), habit tracking, habit shaping and how to design your environment - physical and social - for habit building success. You learn the truth about self-control, how to stop procrastinating and how to use implementation intentions, temptation bundling and motivational rituals. The book is simply packed with actionable ideas, tactics and strategies.\n",
              "                  <br/>\n",
              " <br/>\n",
              "                  Virtually every idea in the book is useful and resonated with me. While I may not agree that we should \"forget about goals,\" I agree with one of Clear's core principles in the book - that we must develop systems for change. If we only focus on goals and don't develop systems and a focus on the process, we risk falling into a number of goal-related traps which ultimately lead to stagnation. With the right systems, we're rewarded with continuous improvement on a lifelong journey of success.\n",
              "                  <br/>\n",
              " <br/>\n",
              "                  Another difference between Atomic Habits and other books in this genre is that while it's based on science it doesn't bog you down with unnecessary details of the research. Clear's book is intensely practical, giving you a huge toolkit of organized and named strategies you can apply immediately to create and strengthen positive habits and stop the negative ones.\n",
              "                  <br/>\n",
              " <br/>\n",
              "                  The book is conversational, and includes many interesting stories, making it easy to read - and hard to put down (I read it cover to cover in one day).\n",
              "                  <br/>\n",
              " <br/>\n",
              "                  It's possible this might become your most highlighted personal improvement book because every page is so chocked full of memorable and quotable gems of advice.\n",
              "                 </span>\n",
              " </span>,\n",
              " <span class=\"a-size-base review-text review-text-content\" data-hook=\"review-body\">\n",
              " <span>\n",
              "                  Very insightful and easy to read. It’s crazy how simple I thought making habits was. This book explains why I cannot ever stick to what I try to do. He lays it out in a way that makes these habits truly stick. I can see the how I can apply these lessons to my life.\n",
              "                 </span>\n",
              " </span>,\n",
              " <span class=\"a-size-base review-text review-text-content\" data-hook=\"review-body\">\n",
              " <span>\n",
              "                  \"Atomic Habits\" by James Clear is pretty much a game-changer if you’re into making big changes without feeling overwhelmed. Clear breaks down why tiny tweaks in our daily actions can lead to some seriously awesome results over time. It’s all about those small steps that add up, kind of like how a few cents can turn into a fortune.\n",
              "                  <br/>\n",
              " <br/>\n",
              "                  Reading this book, you'll get why setting up systems beats obsessing over goals. It’s the doing part, the routine, that really gets you somewhere. Clear’s got this cool idea about improving by just 1% every day. Doesn’t sound like much, but stack those days together and you’ll see a huge difference.\n",
              "                  <br/>\n",
              " <br/>\n",
              "                  He lays out this straightforward plan for changing up how we act: find what triggers a habit, figure out why you crave it, what you do about it, and why it feels worth it afterward. Getting this down helps you ditch the bad habits and pick up better ones. Plus, he’s all about making your space work for you, making it easier to stick to the good stuff and avoid the pitfalls.\n",
              "                  <br/>\n",
              " <br/>\n",
              "                  What’s really cool is how Clear says we should focus on the kind of person we want to be, not just what we want to do. It’s like, instead of saying, “I want to read more,” you start thinking, “I’m someone who reads a lot.” It’s a small shift but feels way more motivating.\n",
              "                  <br/>\n",
              " <br/>\n",
              "                  \"Atomic Habits\" isn’t just theory. It’s packed with real, doable advice for anyone looking to boost their productivity, health, or just about any aspect of life. This book is a down-to-earth guide that’s all about making real, lasting changes – perfect for anyone who’s ever felt stuck but dreams of getting ahead. Definitely a must-read if you’re into turning the little things into big wins.\n",
              "                 </span>\n",
              " </span>,\n",
              " <span class=\"a-size-base review-text review-text-content\" data-hook=\"review-body\">\n",
              " <span>\n",
              "                  James Clear’s \"Atomic Habits\" is nothing short of inspirational. From the moment I turned the first page, I was captivated by Clear's insightful approach to breaking down complex behavioral psychology into actionable, understandable steps. It's rare to find a book that not only motivates you but also provides practical strategies that can be seamlessly integrated into daily life.\n",
              "                  <br/>\n",
              " <br/>\n",
              "                  The concept of making tiny changes for enormous results is revolutionary yet so simple. By focusing on small adjustments, I've been able to reshape my week dramatically—it feels like I've found the secret key to productivity and well-being that has eluded me for years.\n",
              "                  <br/>\n",
              " <br/>\n",
              "                  But it's more than just about habits; this book offers a new lens through which to view life itself. \"Atomic Habits\" goes beyond surface-level advice, challenging you to examine your own motivations and resistances deeply. The personal anecdotes combined with scientific research make it incredibly relatable and grounded in reality—something many self-help books strive for but few achieve.\n",
              "                  <br/>\n",
              " <br/>\n",
              "                  After reading this book, my perspective on goal setting and achievement has fundamentally changed. Instead of being bogged down by daunting tasks or aspirations, I now see every action as a step towards becoming the version of myself I aspire to be—a cumulative effect where each small choice matters.\n",
              "                 </span>\n",
              " </span>,\n",
              " <span class=\"a-size-base review-text review-text-content\" data-hook=\"review-body\">\n",
              " <span>\n",
              "                  I began reading this book with very high expectations and it did not disappoint. I, myself, am a big believer of the power of habits and have done a lot of research on the topic. Yet I learned a lot, especially the clarity with which the author presents his ideas. Big parts of the book were, in some sense, confirmation that I was doing things the right way, since I was oftentimes thinking \"oh yeah, that's similar to what I'm doing\". Still, parts of the book and strategies proposed were new to me and really helped add habit strategies to my toolbox. As mentioned though, the best thing about this book is the clarity with which the ideas are presented and the way they blend together.\n",
              "                  <br/>\n",
              " <br/>\n",
              "                  This quote from the last chapter summarizes the \"Four Laws of Behavior Change\" (that the book is about) well: \" (1) Sometimes a habit will be hard to remember and you'll need to make it obvious. (2) Other times you won't feel like starting and you'll need to make it attractive. (3) In many cases, you may find that a habit will be too difficult and you'll need to make it easy. (4) And sometimes, you won't feel like sticking with it and you'll need to make it satisfying.\"\n",
              "                  <br/>\n",
              " <br/>\n",
              "                  Here's some of the notes I made while reading the book:\n",
              "                  <br/>\n",
              "                  - Habits are like compound interest in self-improvement.\n",
              "                  <br/>\n",
              "                  - Outcomes are a lagging measure of habits.\n",
              "                  <br/>\n",
              "                  - The \"Valley of Disappointment\" is the period where you are putting in the hard work but still seeing no results. --&gt; but remember, your work is not being wasted, it is being stored.\n",
              "                  <br/>\n",
              "                  - You do not rise to the level of your goals, you fall to the level of your systems.\n",
              "                  <br/>\n",
              "                  - Your habits shape your identity and your identity shapes your habit. It's a feedback loop. (reverse causation for the nerds here)\n",
              "                  <br/>\n",
              "                  - Make clear plans - Use the \"Implementation Intention\": When X happens, then I will do Y OR if Z happens, then I will do W.\n",
              "                  <br/>\n",
              "                  - Use \"Habit Stacking\": After behavior X, I will immediately perform behavior Y OR If Z happens, I will immediately perform behavior W. (i.e. As soon as I begin boiling water for tea, I will do 10 burpees). Also, be very clear. (i.e. I will do the burpees next to the fridge in the kitchen, or whatever, you get the idea. As long as it works, it's good!)\n",
              "                  <br/>\n",
              "                  - People with high self-control are the ones who structure their environments in such a way to minimize exposure to tempting situations.\n",
              "                  <br/>\n",
              "                  - Use \"Temptation Bundling\" + \"Habit Stacking\": After X, i will Y. Right after Y, I will immediately Z,\n",
              "                  <br/>\n",
              "                  where X - habit I already do, Y - habit I need to do, Z - habit I want to do. (The anticipation of a reward is what gives us the most motivation - and not the reward itself.)\n",
              "                  <br/>\n",
              "                  - Do something you enjoy before a difficult habit.\n",
              "                  <br/>\n",
              "                  - Planning can sometimes be a form of procrastination because it can make you feel like you are making progress (while you are not).\n",
              "                  <br/>\n",
              "                  - Make your habits as easy as possible to start (i.e. do one set of abs, read one page of my book) - This is called a \"Gateway Habit\". and it helps to reinforce your identity of who you are which will itself help motivate you to keep going.\n",
              "                  <br/>\n",
              "                  - Prime your environment for future use - \"resetting your environment\" (i.e. Take out your coffee and mug the night before, make your bed perfectly, to remove the sense of sleep / bedroom if you'll be working from your bedroom)\n",
              "                  <br/>\n",
              "                  - Use pre-commitment devices to make it harder/ impossible to deviate from good habits.\n",
              "                  <br/>\n",
              "                  - Even one minute of a bad habit (i.e. checking instagram) can manifest into a lot (i.e. getting lost in time browsing instagram).\n",
              "                  <br/>\n",
              "                  - Put some immediate reward into good habits / immediate punishment to bad habits.\n",
              "                  <br/>\n",
              "                  - Create a habit tracker / calendar to provide a sense of accomplishment and motivation.\n",
              "                  <br/>\n",
              "                  - Rule: Never miss a habit twice! (life gets in the way, but don't let it derail you off your path)\n",
              "                  <br/>\n",
              "                  - Finding what you are naturally gifted in will make good habits easier. To do that ask the following questions. (1) What feels like fun to me but work to others? (2) What makes me lose track of time? (3) Where do I get greater returns than the average person? (4) What comes naturally to me?\n",
              "                  <br/>\n",
              "                  - You can also win by being different, by rewriting the rules (i.e. by combining your unique set of skills)\n",
              "                  <br/>\n",
              "                  - Periodic reflection and review can enable the long-term improvement of all habits - identity building.\n",
              "                  <br/>\n",
              " <br/>\n",
              "                  Finally, some quotes I liked:\n",
              "                  <br/>\n",
              "                  - \"Really successful people feel the same lack of motivation as everyone else. The difference is that they find a way to show up despite the feelings of boredom.\"\n",
              "                  <br/>\n",
              "                  - \"The greatest threat to success is not failure, but boredom.\"\n",
              "                  <br/>\n",
              "                  - \"You have to fall in love with boredom.\"\n",
              "                  <br/>\n",
              "                  - \"Improvement is not just about learning habits, it's also about fine-tuning them.\"\n",
              "                  <br/>\n",
              "                  - \"Success is not a goal to reach or a finish line to cross. It is a system to improve, an endless process to refine.\"\n",
              "                  <br/>\n",
              " <br/>\n",
              "                  And my favorite:\n",
              "                  <br/>\n",
              "                  - \"It is remarkable what you can build if you just don't stop.\"\n",
              "                 </span>\n",
              " </span>,\n",
              " <span class=\"a-size-base review-text review-text-content\" data-hook=\"review-body\">\n",
              " <span>\n",
              "                  Yes! It's one of the best personal improvement, business, and self-help books I've read in a long time. It's all about habits- what they are, how to replace bad ones, and what you can do to become the best you. The well-crafted, easily digestible sections and ideas are for everyone. I absolutely want to reread this one and take notes. It is highly acclaimed and recommended. It could help with any aspect of your life- work, relationships, and home.\n",
              "                  <br/>\n",
              " <br/>\n",
              "                  This inspired me. I decided to get out of my own way. If I want to change, I need to decide what kind of person I am and want to be.\n",
              "                  <br/>\n",
              " <br/>\n",
              "                  **It would be a great book club discussion.\n",
              "                  <br/>\n",
              " <br/>\n",
              "                  I have also listened to the audiobook, and the author did a fantastic job narrating it.\n",
              "                  <br/>\n",
              "                  4.5/5 Star rating\n",
              "                 </span>\n",
              " </span>,\n",
              " <span class=\"a-size-base review-text review-text-content\" data-hook=\"review-body\">\n",
              " <span>\n",
              "                  I've never been a huge of of the \"self-help\" world as most of the crap I've read was...well just that crap. When there was a bad habit I wanted to break in the past, I would either substitute it with another habit that wasn't good or try the cold turkey method. For me that never worked. The way this book breaks it down and the examples it uses is really helpful. I read it through once and marked up some stuff, reading through a second time and highlighting some stuff, and I keep enjoying it and learning. I've already started implementing some of the things I've read and thus far it has worked. Easy book to read and the stories in it keep you interested. So glad I decided to bite the bullet and give it a try.\n",
              "                 </span>\n",
              " </span>,\n",
              " <span class=\"a-size-base review-text review-text-content\" data-hook=\"review-body\">\n",
              " <span>\n",
              "                  Atomic Habits by James Clear is one of those rare books that I immediately read twice in a row. It is filled with dozens of science-backed and actionable nuggets of wisdom. Do you want to improve any habits in your life? I heartily recommend Atomic Habits to you! We are all driven by our habits - many of which are unconscious. Below are 9 quotes and takeaways from this life-changing book:\n",
              "                  <br/>\n",
              " <br/>\n",
              "                  1. \"Getting 1 percent better every day counts for a lot in the long-run.\" Atomic Habits explains why the little things you do every day matters. Your little habits matter. It may not seem like a big deal to skip a workout or to be kind, but it is a big deal. Imagine if you improved your habits by only 1% every day. You'd be dramatically a different person in a year. Then imagine if you let your habits decline by 1% every day. You'd be in a much worse spot in life overall a year from now. Your little habits - atomic habits - count for a lot in the long run. What little habits are you improving upon (or neglecting...) today?\n",
              "                  <br/>\n",
              " <br/>\n",
              "                  2. \"You do not rise to the level of your goals. You fall to the level of your systems.\" This is such an important point in the book. Oftentimes we focus on goals in our life, while neglecting to focus on the systems that help us achieve goals. As an example, I had a friend who had the goal to complete a triathlon.  He achieved this goal!  And then he quit working out for the next year and got out of shape... He was so focused on achieving a goal that he neglected his underlying systems of being healthy. Goal achievement can actually set us back if we don't get set up sustainable systems.  Get the systems right and then we'll indeed also achieve our goals. Systems &gt; Goals.\n",
              "                  <br/>\n",
              " <br/>\n",
              "                  3. \"Every action you take is a vote for the type of person you wish to become. No single instance will transform your beliefs, but as the votes build up, so does the evidence of your new identity.\" I love this quote from the book. Every action - every habit - you take casts a vote for the type of person you want to become. Do you want to be a more organized person? When you develop habits and systems that organize your life, you are casting votes for thinking of yourself as an organized person. You think to yourself, \"hey, I'm an organized person.\" And then you reinforce that belief with your habits and actions - a virtuous cycle! The flip side of this can be true too. What if you often show up late to meetings? You're casting votes that may make you think \"well, I'm just a person that is always late.\" An un-virtuous cycle.  Be careful to make sure that your habits and ultimately your beliefs cast votes for the type of person you want to become and, indeed, who you truly are.\n",
              "                  <br/>\n",
              " <br/>\n",
              "                  4. \"How long does it actually take to form a new habit? You just need to get your reps in.\" Atomic Habits answers the question of \"how much time does it take to form a new habit\" with a better answer of : X number of actions.  Meaning, you may need to simply complete a new habit 100 times for it to stick, which could be done in 3 days or 3 weeks or 3 months, depending on the new habit. It is better to think of forming new habits in terms of consistently taking action, versus trying to stick to a habit for just X number of days. Get your reps in.\n",
              "                  <br/>\n",
              " <br/>\n",
              "                  5. \"Reduce friction. Decrease the number of steps between you and your good habits.\" The inverse of this is also true - increase friction between you and your bad habits! I think about this a lot when it comes to eating healthy. I need to reduce friction by having healthy food in the house and healthy snacks at work. And I need to increase friction by not having candy in the house or in my office! Out of sight, out of mind. In sight, and I eat it. :)  (which of course reminds me of the Dad joke I often tell my girls: \"I'm on a seafood diet. I see food and I eat it...)\n",
              "                  <br/>\n",
              " <br/>\n",
              "                  6. \"Use temptation bundling. Pair an action you want to do with an action you need to do.\" This is a powerful concept. I put this in practice by only \"watching TV\" when I'm on the treadmill. I am able to run at a 6 MPH pace and watch TV or videos on the iPad when I'm on a treadmill. So, I generally only watch sporting events or movies or 80s music videos on YouTube when I'm running on the treadmill. This approach actually allows me to run longer if I want to watch a full half of a game, for example. And 80s music videos will often give me the energy to run that extra mile. :)  Think about a new habit you want to start and how you can bundle it with an action you're already taking. Stack them together - i.e. habit stacking.\n",
              "                  <br/>\n",
              " <br/>\n",
              "                  7. \"Use a habit tracker. Keep track of your habit streak and 'don't break the chain.'\" Atomic Habits does a nice job of explaining the importance of tracking your habits for success. What gets measured gets managed. One of my favorite habit trackers is a FitBit/Apple Watch, which tracks steps, heart rate, sleep, weight and can even track food intake/calories, if you input this data.  My behavior definitely changes thanks to these habit trackers. Atomic Habits gives you additional habit tracker resources.\n",
              "                  <br/>\n",
              " <br/>\n",
              "                  8. \"Never miss twice. When you forget to do a habit, make sure you get back on track immediately.\" We all will have days where we fall off the bandwagon and our habits go in reverse. Well, that's okay for one day. Don't let it happen twice. Get back on track as soon as possible. (And, yes, sometimes we miss a habit two days in row. Just don't let it become three days...)\n",
              "                  <br/>\n",
              " <br/>\n",
              "                  9. Author James Clear gets to the point quickly in Atomic Habits and with actionable advice. James has been blogging about habits, health, happiness, creativity and productivity since 2012. Check out a sampling of his writing at his website. James is also fun to follow on Twitter. Atomic Habits has 20 relatively short chapters that open with compelling stories and end with helpful chapter summaries. If you listen to books on Audible, I highly recommend the audio book as James reads this book very passionately.\n",
              "                 </span>\n",
              " </span>]"
            ]
          },
          "metadata": {},
          "execution_count": 16
        }
      ]
    },
    {
      "cell_type": "markdown",
      "source": [
        "**GET All the reviews of the first page without unnecessary html tags**"
      ],
      "metadata": {
        "id": "6N9wDIN1Fi7J"
      }
    },
    {
      "cell_type": "code",
      "source": [
        "# Extract and print review text of the FIRST PAGE\n",
        "reviews = []\n",
        "for review_text in review_texts:\n",
        "    reviews.append(review_text.get_text(strip=True))"
      ],
      "metadata": {
        "id": "7laAWb-1W60I"
      },
      "execution_count": null,
      "outputs": []
    },
    {
      "cell_type": "code",
      "source": [
        " # please delete the # to run and see the reviews data.\n",
        " # reviews"
      ],
      "metadata": {
        "id": "dhcio0YzgYqV"
      },
      "execution_count": null,
      "outputs": []
    },
    {
      "cell_type": "markdown",
      "source": [
        "If you do not wish to scrape other pages of data and only stick to the first page, you are already good to go! Just convert the list into a dataframe and play with that.... :)"
      ],
      "metadata": {
        "id": "7Eu7sRHpF2Xy"
      }
    },
    {
      "cell_type": "code",
      "source": [
        "df = pd.DataFrame({'Reviews':reviews})"
      ],
      "metadata": {
        "id": "Q3ZrUU3OXBnI"
      },
      "execution_count": null,
      "outputs": []
    },
    {
      "cell_type": "code",
      "source": [
        "df"
      ],
      "metadata": {
        "colab": {
          "base_uri": "https://localhost:8080/",
          "height": 363
        },
        "id": "xeNgNRo3XFpI",
        "outputId": "cf97219e-cf97-4eda-8b5e-790fc120ea5a"
      },
      "execution_count": null,
      "outputs": [
        {
          "output_type": "execute_result",
          "data": {
            "text/plain": [
              "                                             Reviews\n",
              "0  I previously wrote this review right after rea...\n",
              "1  \"Atomic Habits\" by James Clear is a transforma...\n",
              "2  I've read a lot of books on changing behavior ...\n",
              "3  Very insightful and easy to read. It’s crazy h...\n",
              "4  \"Atomic Habits\" by James Clear is pretty much ...\n",
              "5  James Clear’s \"Atomic Habits\" is nothing short...\n",
              "6  I began reading this book with very high expec...\n",
              "7  Yes! It's one of the best personal improvement...\n",
              "8  I've never been a huge of of the \"self-help\" w...\n",
              "9  Atomic Habits by James Clear is one of those r..."
            ],
            "text/html": [
              "\n",
              "  <div id=\"df-82efc286-acce-49d2-9f8f-b49fdab15f1e\" class=\"colab-df-container\">\n",
              "    <div>\n",
              "<style scoped>\n",
              "    .dataframe tbody tr th:only-of-type {\n",
              "        vertical-align: middle;\n",
              "    }\n",
              "\n",
              "    .dataframe tbody tr th {\n",
              "        vertical-align: top;\n",
              "    }\n",
              "\n",
              "    .dataframe thead th {\n",
              "        text-align: right;\n",
              "    }\n",
              "</style>\n",
              "<table border=\"1\" class=\"dataframe\">\n",
              "  <thead>\n",
              "    <tr style=\"text-align: right;\">\n",
              "      <th></th>\n",
              "      <th>Reviews</th>\n",
              "    </tr>\n",
              "  </thead>\n",
              "  <tbody>\n",
              "    <tr>\n",
              "      <th>0</th>\n",
              "      <td>I previously wrote this review right after rea...</td>\n",
              "    </tr>\n",
              "    <tr>\n",
              "      <th>1</th>\n",
              "      <td>\"Atomic Habits\" by James Clear is a transforma...</td>\n",
              "    </tr>\n",
              "    <tr>\n",
              "      <th>2</th>\n",
              "      <td>I've read a lot of books on changing behavior ...</td>\n",
              "    </tr>\n",
              "    <tr>\n",
              "      <th>3</th>\n",
              "      <td>Very insightful and easy to read. It’s crazy h...</td>\n",
              "    </tr>\n",
              "    <tr>\n",
              "      <th>4</th>\n",
              "      <td>\"Atomic Habits\" by James Clear is pretty much ...</td>\n",
              "    </tr>\n",
              "    <tr>\n",
              "      <th>5</th>\n",
              "      <td>James Clear’s \"Atomic Habits\" is nothing short...</td>\n",
              "    </tr>\n",
              "    <tr>\n",
              "      <th>6</th>\n",
              "      <td>I began reading this book with very high expec...</td>\n",
              "    </tr>\n",
              "    <tr>\n",
              "      <th>7</th>\n",
              "      <td>Yes! It's one of the best personal improvement...</td>\n",
              "    </tr>\n",
              "    <tr>\n",
              "      <th>8</th>\n",
              "      <td>I've never been a huge of of the \"self-help\" w...</td>\n",
              "    </tr>\n",
              "    <tr>\n",
              "      <th>9</th>\n",
              "      <td>Atomic Habits by James Clear is one of those r...</td>\n",
              "    </tr>\n",
              "  </tbody>\n",
              "</table>\n",
              "</div>\n",
              "    <div class=\"colab-df-buttons\">\n",
              "\n",
              "  <div class=\"colab-df-container\">\n",
              "    <button class=\"colab-df-convert\" onclick=\"convertToInteractive('df-82efc286-acce-49d2-9f8f-b49fdab15f1e')\"\n",
              "            title=\"Convert this dataframe to an interactive table.\"\n",
              "            style=\"display:none;\">\n",
              "\n",
              "  <svg xmlns=\"http://www.w3.org/2000/svg\" height=\"24px\" viewBox=\"0 -960 960 960\">\n",
              "    <path d=\"M120-120v-720h720v720H120Zm60-500h600v-160H180v160Zm220 220h160v-160H400v160Zm0 220h160v-160H400v160ZM180-400h160v-160H180v160Zm440 0h160v-160H620v160ZM180-180h160v-160H180v160Zm440 0h160v-160H620v160Z\"/>\n",
              "  </svg>\n",
              "    </button>\n",
              "\n",
              "  <style>\n",
              "    .colab-df-container {\n",
              "      display:flex;\n",
              "      gap: 12px;\n",
              "    }\n",
              "\n",
              "    .colab-df-convert {\n",
              "      background-color: #E8F0FE;\n",
              "      border: none;\n",
              "      border-radius: 50%;\n",
              "      cursor: pointer;\n",
              "      display: none;\n",
              "      fill: #1967D2;\n",
              "      height: 32px;\n",
              "      padding: 0 0 0 0;\n",
              "      width: 32px;\n",
              "    }\n",
              "\n",
              "    .colab-df-convert:hover {\n",
              "      background-color: #E2EBFA;\n",
              "      box-shadow: 0px 1px 2px rgba(60, 64, 67, 0.3), 0px 1px 3px 1px rgba(60, 64, 67, 0.15);\n",
              "      fill: #174EA6;\n",
              "    }\n",
              "\n",
              "    .colab-df-buttons div {\n",
              "      margin-bottom: 4px;\n",
              "    }\n",
              "\n",
              "    [theme=dark] .colab-df-convert {\n",
              "      background-color: #3B4455;\n",
              "      fill: #D2E3FC;\n",
              "    }\n",
              "\n",
              "    [theme=dark] .colab-df-convert:hover {\n",
              "      background-color: #434B5C;\n",
              "      box-shadow: 0px 1px 3px 1px rgba(0, 0, 0, 0.15);\n",
              "      filter: drop-shadow(0px 1px 2px rgba(0, 0, 0, 0.3));\n",
              "      fill: #FFFFFF;\n",
              "    }\n",
              "  </style>\n",
              "\n",
              "    <script>\n",
              "      const buttonEl =\n",
              "        document.querySelector('#df-82efc286-acce-49d2-9f8f-b49fdab15f1e button.colab-df-convert');\n",
              "      buttonEl.style.display =\n",
              "        google.colab.kernel.accessAllowed ? 'block' : 'none';\n",
              "\n",
              "      async function convertToInteractive(key) {\n",
              "        const element = document.querySelector('#df-82efc286-acce-49d2-9f8f-b49fdab15f1e');\n",
              "        const dataTable =\n",
              "          await google.colab.kernel.invokeFunction('convertToInteractive',\n",
              "                                                    [key], {});\n",
              "        if (!dataTable) return;\n",
              "\n",
              "        const docLinkHtml = 'Like what you see? Visit the ' +\n",
              "          '<a target=\"_blank\" href=https://colab.research.google.com/notebooks/data_table.ipynb>data table notebook</a>'\n",
              "          + ' to learn more about interactive tables.';\n",
              "        element.innerHTML = '';\n",
              "        dataTable['output_type'] = 'display_data';\n",
              "        await google.colab.output.renderOutput(dataTable, element);\n",
              "        const docLink = document.createElement('div');\n",
              "        docLink.innerHTML = docLinkHtml;\n",
              "        element.appendChild(docLink);\n",
              "      }\n",
              "    </script>\n",
              "  </div>\n",
              "\n",
              "\n",
              "<div id=\"df-a0ee2707-542d-4762-af56-ad171a9f32cb\">\n",
              "  <button class=\"colab-df-quickchart\" onclick=\"quickchart('df-a0ee2707-542d-4762-af56-ad171a9f32cb')\"\n",
              "            title=\"Suggest charts\"\n",
              "            style=\"display:none;\">\n",
              "\n",
              "<svg xmlns=\"http://www.w3.org/2000/svg\" height=\"24px\"viewBox=\"0 0 24 24\"\n",
              "     width=\"24px\">\n",
              "    <g>\n",
              "        <path d=\"M19 3H5c-1.1 0-2 .9-2 2v14c0 1.1.9 2 2 2h14c1.1 0 2-.9 2-2V5c0-1.1-.9-2-2-2zM9 17H7v-7h2v7zm4 0h-2V7h2v10zm4 0h-2v-4h2v4z\"/>\n",
              "    </g>\n",
              "</svg>\n",
              "  </button>\n",
              "\n",
              "<style>\n",
              "  .colab-df-quickchart {\n",
              "      --bg-color: #E8F0FE;\n",
              "      --fill-color: #1967D2;\n",
              "      --hover-bg-color: #E2EBFA;\n",
              "      --hover-fill-color: #174EA6;\n",
              "      --disabled-fill-color: #AAA;\n",
              "      --disabled-bg-color: #DDD;\n",
              "  }\n",
              "\n",
              "  [theme=dark] .colab-df-quickchart {\n",
              "      --bg-color: #3B4455;\n",
              "      --fill-color: #D2E3FC;\n",
              "      --hover-bg-color: #434B5C;\n",
              "      --hover-fill-color: #FFFFFF;\n",
              "      --disabled-bg-color: #3B4455;\n",
              "      --disabled-fill-color: #666;\n",
              "  }\n",
              "\n",
              "  .colab-df-quickchart {\n",
              "    background-color: var(--bg-color);\n",
              "    border: none;\n",
              "    border-radius: 50%;\n",
              "    cursor: pointer;\n",
              "    display: none;\n",
              "    fill: var(--fill-color);\n",
              "    height: 32px;\n",
              "    padding: 0;\n",
              "    width: 32px;\n",
              "  }\n",
              "\n",
              "  .colab-df-quickchart:hover {\n",
              "    background-color: var(--hover-bg-color);\n",
              "    box-shadow: 0 1px 2px rgba(60, 64, 67, 0.3), 0 1px 3px 1px rgba(60, 64, 67, 0.15);\n",
              "    fill: var(--button-hover-fill-color);\n",
              "  }\n",
              "\n",
              "  .colab-df-quickchart-complete:disabled,\n",
              "  .colab-df-quickchart-complete:disabled:hover {\n",
              "    background-color: var(--disabled-bg-color);\n",
              "    fill: var(--disabled-fill-color);\n",
              "    box-shadow: none;\n",
              "  }\n",
              "\n",
              "  .colab-df-spinner {\n",
              "    border: 2px solid var(--fill-color);\n",
              "    border-color: transparent;\n",
              "    border-bottom-color: var(--fill-color);\n",
              "    animation:\n",
              "      spin 1s steps(1) infinite;\n",
              "  }\n",
              "\n",
              "  @keyframes spin {\n",
              "    0% {\n",
              "      border-color: transparent;\n",
              "      border-bottom-color: var(--fill-color);\n",
              "      border-left-color: var(--fill-color);\n",
              "    }\n",
              "    20% {\n",
              "      border-color: transparent;\n",
              "      border-left-color: var(--fill-color);\n",
              "      border-top-color: var(--fill-color);\n",
              "    }\n",
              "    30% {\n",
              "      border-color: transparent;\n",
              "      border-left-color: var(--fill-color);\n",
              "      border-top-color: var(--fill-color);\n",
              "      border-right-color: var(--fill-color);\n",
              "    }\n",
              "    40% {\n",
              "      border-color: transparent;\n",
              "      border-right-color: var(--fill-color);\n",
              "      border-top-color: var(--fill-color);\n",
              "    }\n",
              "    60% {\n",
              "      border-color: transparent;\n",
              "      border-right-color: var(--fill-color);\n",
              "    }\n",
              "    80% {\n",
              "      border-color: transparent;\n",
              "      border-right-color: var(--fill-color);\n",
              "      border-bottom-color: var(--fill-color);\n",
              "    }\n",
              "    90% {\n",
              "      border-color: transparent;\n",
              "      border-bottom-color: var(--fill-color);\n",
              "    }\n",
              "  }\n",
              "</style>\n",
              "\n",
              "  <script>\n",
              "    async function quickchart(key) {\n",
              "      const quickchartButtonEl =\n",
              "        document.querySelector('#' + key + ' button');\n",
              "      quickchartButtonEl.disabled = true;  // To prevent multiple clicks.\n",
              "      quickchartButtonEl.classList.add('colab-df-spinner');\n",
              "      try {\n",
              "        const charts = await google.colab.kernel.invokeFunction(\n",
              "            'suggestCharts', [key], {});\n",
              "      } catch (error) {\n",
              "        console.error('Error during call to suggestCharts:', error);\n",
              "      }\n",
              "      quickchartButtonEl.classList.remove('colab-df-spinner');\n",
              "      quickchartButtonEl.classList.add('colab-df-quickchart-complete');\n",
              "    }\n",
              "    (() => {\n",
              "      let quickchartButtonEl =\n",
              "        document.querySelector('#df-a0ee2707-542d-4762-af56-ad171a9f32cb button');\n",
              "      quickchartButtonEl.style.display =\n",
              "        google.colab.kernel.accessAllowed ? 'block' : 'none';\n",
              "    })();\n",
              "  </script>\n",
              "</div>\n",
              "    </div>\n",
              "  </div>\n"
            ],
            "application/vnd.google.colaboratory.intrinsic+json": {
              "type": "dataframe",
              "variable_name": "df",
              "summary": "{\n  \"name\": \"df\",\n  \"rows\": 10,\n  \"fields\": [\n    {\n      \"column\": \"Reviews\",\n      \"properties\": {\n        \"dtype\": \"string\",\n        \"num_unique_values\": 10,\n        \"samples\": [\n          \"I've never been a huge of of the \\\"self-help\\\" world as most of the crap I've read was...well just that crap. When there was a bad habit I wanted to break in the past, I would either substitute it with another habit that wasn't good or try the cold turkey method. For me that never worked. The way this book breaks it down and the examples it uses is really helpful. I read it through once and marked up some stuff, reading through a second time and highlighting some stuff, and I keep enjoying it and learning. I've already started implementing some of the things I've read and thus far it has worked. Easy book to read and the stories in it keep you interested. So glad I decided to bite the bullet and give it a try.\",\n          \"\\\"Atomic Habits\\\" by James Clear is a transformative masterpiece that illuminates the power of small actions in creating significant life changes. Clear's meticulous research and practical insights establish him as a trusted authority in habit formation, enhancing the book's ethos. Through compelling anecdotes and real-life examples, he demonstrates how tiny habits compound over time to yield remarkable results, appealing to logos with empirical evidence. The book's structured approach to habit-building provides readers with actionable steps, making it accessible and applicable to anyone striving for personal growth. Clear's emphasis on the importance of environment and identity in shaping habits adds depth to his argument, reinforcing the credibility of his claims. By debunking common myths and offering clear strategies, \\\"Atomic Habits\\\" empowers readers to take control of their behaviors and forge a path towards success. Its engaging narrative style captivates from start to finish, ensuring readers stay motivated on their habit journey. Whether seeking to improve productivity, health, or relationships, this book equips individuals with the tools needed to make lasting changes. In summary, \\\"Atomic Habits\\\" is not just a book; it's a roadmap to a better, more intentional life, backed by solid research and practical wisdom\",\n          \"James Clear\\u2019s \\\"Atomic Habits\\\" is nothing short of inspirational. From the moment I turned the first page, I was captivated by Clear's insightful approach to breaking down complex behavioral psychology into actionable, understandable steps. It's rare to find a book that not only motivates you but also provides practical strategies that can be seamlessly integrated into daily life.The concept of making tiny changes for enormous results is revolutionary yet so simple. By focusing on small adjustments, I've been able to reshape my week dramatically\\u2014it feels like I've found the secret key to productivity and well-being that has eluded me for years.But it's more than just about habits; this book offers a new lens through which to view life itself. \\\"Atomic Habits\\\" goes beyond surface-level advice, challenging you to examine your own motivations and resistances deeply. The personal anecdotes combined with scientific research make it incredibly relatable and grounded in reality\\u2014something many self-help books strive for but few achieve.After reading this book, my perspective on goal setting and achievement has fundamentally changed. Instead of being bogged down by daunting tasks or aspirations, I now see every action as a step towards becoming the version of myself I aspire to be\\u2014a cumulative effect where each small choice matters.\"\n        ],\n        \"semantic_type\": \"\",\n        \"description\": \"\"\n      }\n    }\n  ]\n}"
            }
          },
          "metadata": {},
          "execution_count": 20
        }
      ]
    },
    {
      "cell_type": "markdown",
      "source": [
        "## Task: Scrape reviews for multiple pages\n",
        "This is where you might end up spending hours to find a good tutorial or a blog post, as it sounds involving too much of programming but trust me, if you just paid attention and got until this, you already got over the most toughest part. I wrote the functions below in a way it will give a recap of what we have done so far!\n",
        "\n",
        "I scraped the reviews of my favorite book from multiple pages by this 3 steps:\n",
        "1. defined scrape_reviews function\n",
        "2. defined scrape_reviews_from_multiple_pages\n",
        "3. Call the functions with the URL and Number of pages"
      ],
      "metadata": {
        "id": "UJxeSCJeGV-p"
      }
    },
    {
      "cell_type": "code",
      "source": [
        "def scrape_reviews(url):\n",
        "  \"\"\"\n",
        "  Scrapes reviews from a single page.\n",
        "\n",
        "  Args:\n",
        "  - url (str): The URL of the webpage containing the reviews.\n",
        "\n",
        "  Returns:\n",
        "  - reviews (list): A list of review texts extracted from the webpage\n",
        "  \"\"\"\n",
        "  # Make HTTP Get request to fetch the webpage\n",
        "  page = requests.get(url, headers = headers)\n",
        "\n",
        "  # Parse the HTML content\n",
        "  soup = BeautifulSoup(page.content, \"html.parser\")\n",
        "\n",
        "  # Pretty the soup content\n",
        "  soup = BeautifulSoup(soup.prettify())\n",
        "\n",
        "  # Find all review texts\n",
        "  review_texts = soup.find_all('span', {'class': 'a-size-base review-text review-text-content'})\n",
        "\n",
        "  # Extract review texts and strip whitspaces\n",
        "  reviews = [review.get_text(strip=True) for review in review_texts]\n",
        "\n",
        "  return reviews\n"
      ],
      "metadata": {
        "id": "RfUtQ6shXHEA"
      },
      "execution_count": null,
      "outputs": []
    },
    {
      "cell_type": "code",
      "source": [
        "def scrape_reviews_from_multiple_pages(url, num_pages):\n",
        "  \"\"\"\n",
        "  Scrapes reviews from multiple pages.\n",
        "\n",
        "    Args:\n",
        "    - url (str): The URL of the webpage containing the reviews.\n",
        "    - num_pages (int): The number of pages to scrape reviews from.\n",
        "\n",
        "    Returns:\n",
        "    - all_reviews (list): A list of all review texts extracted from the specified number of pages.\n",
        "    \"\"\"\n",
        "  # Initialize an empty list to store all reviews\n",
        "  all_reviews=[]\n",
        "\n",
        "  # Iterate over each page and scrape reviews\n",
        "  for page_number in range(1, num_pages+1):\n",
        "    # Construct the URL for the current page\n",
        "    url = f\"{url}&pageNumber={page_number}\"\n",
        "\n",
        "    # Scrape reviews from the current page\n",
        "    reviews_on_page = scrape_reviews(url)\n",
        "\n",
        "    # Add reviews from the current page to the list of all reviews\n",
        "    all_reviews.extend(reviews_on_page)\n",
        "\n",
        "\n",
        "  return all_reviews"
      ],
      "metadata": {
        "id": "HTxQMIDpXNGx"
      },
      "execution_count": null,
      "outputs": []
    },
    {
      "cell_type": "code",
      "source": [
        "%%time\n",
        "# Print all reviews\n",
        "url = URL\n",
        "num_pages = 1000\n",
        "all_reviews = scrape_reviews_from_multiple_pages(url, num_pages)\n"
      ],
      "metadata": {
        "id": "u7wqtITGXQ1B",
        "colab": {
          "base_uri": "https://localhost:8080/"
        },
        "outputId": "2492f61c-7b5a-44e5-a7a0-306b62688fe6"
      },
      "execution_count": null,
      "outputs": [
        {
          "output_type": "stream",
          "name": "stdout",
          "text": [
            "CPU times: user 3min 34s, sys: 1.78 s, total: 3min 36s\n",
            "Wall time: 6min 16s\n"
          ]
        }
      ]
    },
    {
      "cell_type": "code",
      "source": [
        "len(all_reviews)"
      ],
      "metadata": {
        "colab": {
          "base_uri": "https://localhost:8080/"
        },
        "id": "6lGyII3bXnlN",
        "outputId": "c16964e5-8f3e-421a-f30f-5f91bd3a1216"
      },
      "execution_count": null,
      "outputs": [
        {
          "output_type": "execute_result",
          "data": {
            "text/plain": [
              "4610"
            ]
          },
          "metadata": {},
          "execution_count": 67
        }
      ]
    },
    {
      "cell_type": "markdown",
      "source": [
        "Despite defining the number of pages to scrape as 1000, I encountered a unknown problem. 1000 pages could scrape 4609 reviews, which in reality is not true.  Every review page of Amazon for the book contains 10 reviews, at max we need 47 pages to scrape right? But if it is for the scrapping process, or pagination problem, I solved the problem temporarily by increasing the number of pages to 1000 so that i get a lot of numbers of reviews to work for sentiment analysis."
      ],
      "metadata": {
        "id": "Rn4slWlKN5P3"
      }
    },
    {
      "cell_type": "code",
      "source": [
        "# Convert the scraped data into a dataframe\n",
        "df2 = pd.DataFrame({'Reviews': all_reviews})\n",
        "df2.shape"
      ],
      "metadata": {
        "colab": {
          "base_uri": "https://localhost:8080/"
        },
        "id": "tptmbhGvZDAj",
        "outputId": "38717941-b950-4eb1-c873-a4b95d53a387"
      },
      "execution_count": null,
      "outputs": [
        {
          "output_type": "execute_result",
          "data": {
            "text/plain": [
              "(4610, 1)"
            ]
          },
          "metadata": {},
          "execution_count": 68
        }
      ]
    },
    {
      "cell_type": "code",
      "source": [
        "# Check the values\n",
        "df2"
      ],
      "metadata": {
        "colab": {
          "base_uri": "https://localhost:8080/",
          "height": 423
        },
        "id": "bUxglckyZF3n",
        "outputId": "3ef57943-1d24-4244-e4c1-bf9a8efa4cad"
      },
      "execution_count": null,
      "outputs": [
        {
          "output_type": "execute_result",
          "data": {
            "text/plain": [
              "                                                Reviews\n",
              "0     I previously wrote this review right after rea...\n",
              "1     \"Atomic Habits\" by James Clear is a transforma...\n",
              "2     I've read a lot of books on changing behavior ...\n",
              "3     Very insightful and easy to read. It’s crazy h...\n",
              "4     \"Atomic Habits\" by James Clear is pretty much ...\n",
              "...                                                 ...\n",
              "4605  James Clear’s \"Atomic Habits\" is nothing short...\n",
              "4606  I began reading this book with very high expec...\n",
              "4607  Yes! It's one of the best personal improvement...\n",
              "4608  I've never been a huge of of the \"self-help\" w...\n",
              "4609  Atomic Habits by James Clear is one of those r...\n",
              "\n",
              "[4610 rows x 1 columns]"
            ],
            "text/html": [
              "\n",
              "  <div id=\"df-95088b43-25e6-4fec-8fce-190caedc564e\" class=\"colab-df-container\">\n",
              "    <div>\n",
              "<style scoped>\n",
              "    .dataframe tbody tr th:only-of-type {\n",
              "        vertical-align: middle;\n",
              "    }\n",
              "\n",
              "    .dataframe tbody tr th {\n",
              "        vertical-align: top;\n",
              "    }\n",
              "\n",
              "    .dataframe thead th {\n",
              "        text-align: right;\n",
              "    }\n",
              "</style>\n",
              "<table border=\"1\" class=\"dataframe\">\n",
              "  <thead>\n",
              "    <tr style=\"text-align: right;\">\n",
              "      <th></th>\n",
              "      <th>Reviews</th>\n",
              "    </tr>\n",
              "  </thead>\n",
              "  <tbody>\n",
              "    <tr>\n",
              "      <th>0</th>\n",
              "      <td>I previously wrote this review right after rea...</td>\n",
              "    </tr>\n",
              "    <tr>\n",
              "      <th>1</th>\n",
              "      <td>\"Atomic Habits\" by James Clear is a transforma...</td>\n",
              "    </tr>\n",
              "    <tr>\n",
              "      <th>2</th>\n",
              "      <td>I've read a lot of books on changing behavior ...</td>\n",
              "    </tr>\n",
              "    <tr>\n",
              "      <th>3</th>\n",
              "      <td>Very insightful and easy to read. It’s crazy h...</td>\n",
              "    </tr>\n",
              "    <tr>\n",
              "      <th>4</th>\n",
              "      <td>\"Atomic Habits\" by James Clear is pretty much ...</td>\n",
              "    </tr>\n",
              "    <tr>\n",
              "      <th>...</th>\n",
              "      <td>...</td>\n",
              "    </tr>\n",
              "    <tr>\n",
              "      <th>4605</th>\n",
              "      <td>James Clear’s \"Atomic Habits\" is nothing short...</td>\n",
              "    </tr>\n",
              "    <tr>\n",
              "      <th>4606</th>\n",
              "      <td>I began reading this book with very high expec...</td>\n",
              "    </tr>\n",
              "    <tr>\n",
              "      <th>4607</th>\n",
              "      <td>Yes! It's one of the best personal improvement...</td>\n",
              "    </tr>\n",
              "    <tr>\n",
              "      <th>4608</th>\n",
              "      <td>I've never been a huge of of the \"self-help\" w...</td>\n",
              "    </tr>\n",
              "    <tr>\n",
              "      <th>4609</th>\n",
              "      <td>Atomic Habits by James Clear is one of those r...</td>\n",
              "    </tr>\n",
              "  </tbody>\n",
              "</table>\n",
              "<p>4610 rows × 1 columns</p>\n",
              "</div>\n",
              "    <div class=\"colab-df-buttons\">\n",
              "\n",
              "  <div class=\"colab-df-container\">\n",
              "    <button class=\"colab-df-convert\" onclick=\"convertToInteractive('df-95088b43-25e6-4fec-8fce-190caedc564e')\"\n",
              "            title=\"Convert this dataframe to an interactive table.\"\n",
              "            style=\"display:none;\">\n",
              "\n",
              "  <svg xmlns=\"http://www.w3.org/2000/svg\" height=\"24px\" viewBox=\"0 -960 960 960\">\n",
              "    <path d=\"M120-120v-720h720v720H120Zm60-500h600v-160H180v160Zm220 220h160v-160H400v160Zm0 220h160v-160H400v160ZM180-400h160v-160H180v160Zm440 0h160v-160H620v160ZM180-180h160v-160H180v160Zm440 0h160v-160H620v160Z\"/>\n",
              "  </svg>\n",
              "    </button>\n",
              "\n",
              "  <style>\n",
              "    .colab-df-container {\n",
              "      display:flex;\n",
              "      gap: 12px;\n",
              "    }\n",
              "\n",
              "    .colab-df-convert {\n",
              "      background-color: #E8F0FE;\n",
              "      border: none;\n",
              "      border-radius: 50%;\n",
              "      cursor: pointer;\n",
              "      display: none;\n",
              "      fill: #1967D2;\n",
              "      height: 32px;\n",
              "      padding: 0 0 0 0;\n",
              "      width: 32px;\n",
              "    }\n",
              "\n",
              "    .colab-df-convert:hover {\n",
              "      background-color: #E2EBFA;\n",
              "      box-shadow: 0px 1px 2px rgba(60, 64, 67, 0.3), 0px 1px 3px 1px rgba(60, 64, 67, 0.15);\n",
              "      fill: #174EA6;\n",
              "    }\n",
              "\n",
              "    .colab-df-buttons div {\n",
              "      margin-bottom: 4px;\n",
              "    }\n",
              "\n",
              "    [theme=dark] .colab-df-convert {\n",
              "      background-color: #3B4455;\n",
              "      fill: #D2E3FC;\n",
              "    }\n",
              "\n",
              "    [theme=dark] .colab-df-convert:hover {\n",
              "      background-color: #434B5C;\n",
              "      box-shadow: 0px 1px 3px 1px rgba(0, 0, 0, 0.15);\n",
              "      filter: drop-shadow(0px 1px 2px rgba(0, 0, 0, 0.3));\n",
              "      fill: #FFFFFF;\n",
              "    }\n",
              "  </style>\n",
              "\n",
              "    <script>\n",
              "      const buttonEl =\n",
              "        document.querySelector('#df-95088b43-25e6-4fec-8fce-190caedc564e button.colab-df-convert');\n",
              "      buttonEl.style.display =\n",
              "        google.colab.kernel.accessAllowed ? 'block' : 'none';\n",
              "\n",
              "      async function convertToInteractive(key) {\n",
              "        const element = document.querySelector('#df-95088b43-25e6-4fec-8fce-190caedc564e');\n",
              "        const dataTable =\n",
              "          await google.colab.kernel.invokeFunction('convertToInteractive',\n",
              "                                                    [key], {});\n",
              "        if (!dataTable) return;\n",
              "\n",
              "        const docLinkHtml = 'Like what you see? Visit the ' +\n",
              "          '<a target=\"_blank\" href=https://colab.research.google.com/notebooks/data_table.ipynb>data table notebook</a>'\n",
              "          + ' to learn more about interactive tables.';\n",
              "        element.innerHTML = '';\n",
              "        dataTable['output_type'] = 'display_data';\n",
              "        await google.colab.output.renderOutput(dataTable, element);\n",
              "        const docLink = document.createElement('div');\n",
              "        docLink.innerHTML = docLinkHtml;\n",
              "        element.appendChild(docLink);\n",
              "      }\n",
              "    </script>\n",
              "  </div>\n",
              "\n",
              "\n",
              "<div id=\"df-3e531a09-cdee-47c5-b217-cfd93e6805ef\">\n",
              "  <button class=\"colab-df-quickchart\" onclick=\"quickchart('df-3e531a09-cdee-47c5-b217-cfd93e6805ef')\"\n",
              "            title=\"Suggest charts\"\n",
              "            style=\"display:none;\">\n",
              "\n",
              "<svg xmlns=\"http://www.w3.org/2000/svg\" height=\"24px\"viewBox=\"0 0 24 24\"\n",
              "     width=\"24px\">\n",
              "    <g>\n",
              "        <path d=\"M19 3H5c-1.1 0-2 .9-2 2v14c0 1.1.9 2 2 2h14c1.1 0 2-.9 2-2V5c0-1.1-.9-2-2-2zM9 17H7v-7h2v7zm4 0h-2V7h2v10zm4 0h-2v-4h2v4z\"/>\n",
              "    </g>\n",
              "</svg>\n",
              "  </button>\n",
              "\n",
              "<style>\n",
              "  .colab-df-quickchart {\n",
              "      --bg-color: #E8F0FE;\n",
              "      --fill-color: #1967D2;\n",
              "      --hover-bg-color: #E2EBFA;\n",
              "      --hover-fill-color: #174EA6;\n",
              "      --disabled-fill-color: #AAA;\n",
              "      --disabled-bg-color: #DDD;\n",
              "  }\n",
              "\n",
              "  [theme=dark] .colab-df-quickchart {\n",
              "      --bg-color: #3B4455;\n",
              "      --fill-color: #D2E3FC;\n",
              "      --hover-bg-color: #434B5C;\n",
              "      --hover-fill-color: #FFFFFF;\n",
              "      --disabled-bg-color: #3B4455;\n",
              "      --disabled-fill-color: #666;\n",
              "  }\n",
              "\n",
              "  .colab-df-quickchart {\n",
              "    background-color: var(--bg-color);\n",
              "    border: none;\n",
              "    border-radius: 50%;\n",
              "    cursor: pointer;\n",
              "    display: none;\n",
              "    fill: var(--fill-color);\n",
              "    height: 32px;\n",
              "    padding: 0;\n",
              "    width: 32px;\n",
              "  }\n",
              "\n",
              "  .colab-df-quickchart:hover {\n",
              "    background-color: var(--hover-bg-color);\n",
              "    box-shadow: 0 1px 2px rgba(60, 64, 67, 0.3), 0 1px 3px 1px rgba(60, 64, 67, 0.15);\n",
              "    fill: var(--button-hover-fill-color);\n",
              "  }\n",
              "\n",
              "  .colab-df-quickchart-complete:disabled,\n",
              "  .colab-df-quickchart-complete:disabled:hover {\n",
              "    background-color: var(--disabled-bg-color);\n",
              "    fill: var(--disabled-fill-color);\n",
              "    box-shadow: none;\n",
              "  }\n",
              "\n",
              "  .colab-df-spinner {\n",
              "    border: 2px solid var(--fill-color);\n",
              "    border-color: transparent;\n",
              "    border-bottom-color: var(--fill-color);\n",
              "    animation:\n",
              "      spin 1s steps(1) infinite;\n",
              "  }\n",
              "\n",
              "  @keyframes spin {\n",
              "    0% {\n",
              "      border-color: transparent;\n",
              "      border-bottom-color: var(--fill-color);\n",
              "      border-left-color: var(--fill-color);\n",
              "    }\n",
              "    20% {\n",
              "      border-color: transparent;\n",
              "      border-left-color: var(--fill-color);\n",
              "      border-top-color: var(--fill-color);\n",
              "    }\n",
              "    30% {\n",
              "      border-color: transparent;\n",
              "      border-left-color: var(--fill-color);\n",
              "      border-top-color: var(--fill-color);\n",
              "      border-right-color: var(--fill-color);\n",
              "    }\n",
              "    40% {\n",
              "      border-color: transparent;\n",
              "      border-right-color: var(--fill-color);\n",
              "      border-top-color: var(--fill-color);\n",
              "    }\n",
              "    60% {\n",
              "      border-color: transparent;\n",
              "      border-right-color: var(--fill-color);\n",
              "    }\n",
              "    80% {\n",
              "      border-color: transparent;\n",
              "      border-right-color: var(--fill-color);\n",
              "      border-bottom-color: var(--fill-color);\n",
              "    }\n",
              "    90% {\n",
              "      border-color: transparent;\n",
              "      border-bottom-color: var(--fill-color);\n",
              "    }\n",
              "  }\n",
              "</style>\n",
              "\n",
              "  <script>\n",
              "    async function quickchart(key) {\n",
              "      const quickchartButtonEl =\n",
              "        document.querySelector('#' + key + ' button');\n",
              "      quickchartButtonEl.disabled = true;  // To prevent multiple clicks.\n",
              "      quickchartButtonEl.classList.add('colab-df-spinner');\n",
              "      try {\n",
              "        const charts = await google.colab.kernel.invokeFunction(\n",
              "            'suggestCharts', [key], {});\n",
              "      } catch (error) {\n",
              "        console.error('Error during call to suggestCharts:', error);\n",
              "      }\n",
              "      quickchartButtonEl.classList.remove('colab-df-spinner');\n",
              "      quickchartButtonEl.classList.add('colab-df-quickchart-complete');\n",
              "    }\n",
              "    (() => {\n",
              "      let quickchartButtonEl =\n",
              "        document.querySelector('#df-3e531a09-cdee-47c5-b217-cfd93e6805ef button');\n",
              "      quickchartButtonEl.style.display =\n",
              "        google.colab.kernel.accessAllowed ? 'block' : 'none';\n",
              "    })();\n",
              "  </script>\n",
              "</div>\n",
              "    </div>\n",
              "  </div>\n"
            ],
            "application/vnd.google.colaboratory.intrinsic+json": {
              "type": "dataframe",
              "variable_name": "df2",
              "summary": "{\n  \"name\": \"df2\",\n  \"rows\": 4610,\n  \"fields\": [\n    {\n      \"column\": \"Reviews\",\n      \"properties\": {\n        \"dtype\": \"category\",\n        \"num_unique_values\": 10,\n        \"samples\": [\n          \"I've never been a huge of of the \\\"self-help\\\" world as most of the crap I've read was...well just that crap. When there was a bad habit I wanted to break in the past, I would either substitute it with another habit that wasn't good or try the cold turkey method. For me that never worked. The way this book breaks it down and the examples it uses is really helpful. I read it through once and marked up some stuff, reading through a second time and highlighting some stuff, and I keep enjoying it and learning. I've already started implementing some of the things I've read and thus far it has worked. Easy book to read and the stories in it keep you interested. So glad I decided to bite the bullet and give it a try.\",\n          \"\\\"Atomic Habits\\\" by James Clear is a transformative masterpiece that illuminates the power of small actions in creating significant life changes. Clear's meticulous research and practical insights establish him as a trusted authority in habit formation, enhancing the book's ethos. Through compelling anecdotes and real-life examples, he demonstrates how tiny habits compound over time to yield remarkable results, appealing to logos with empirical evidence. The book's structured approach to habit-building provides readers with actionable steps, making it accessible and applicable to anyone striving for personal growth. Clear's emphasis on the importance of environment and identity in shaping habits adds depth to his argument, reinforcing the credibility of his claims. By debunking common myths and offering clear strategies, \\\"Atomic Habits\\\" empowers readers to take control of their behaviors and forge a path towards success. Its engaging narrative style captivates from start to finish, ensuring readers stay motivated on their habit journey. Whether seeking to improve productivity, health, or relationships, this book equips individuals with the tools needed to make lasting changes. In summary, \\\"Atomic Habits\\\" is not just a book; it's a roadmap to a better, more intentional life, backed by solid research and practical wisdom\",\n          \"James Clear\\u2019s \\\"Atomic Habits\\\" is nothing short of inspirational. From the moment I turned the first page, I was captivated by Clear's insightful approach to breaking down complex behavioral psychology into actionable, understandable steps. It's rare to find a book that not only motivates you but also provides practical strategies that can be seamlessly integrated into daily life.The concept of making tiny changes for enormous results is revolutionary yet so simple. By focusing on small adjustments, I've been able to reshape my week dramatically\\u2014it feels like I've found the secret key to productivity and well-being that has eluded me for years.But it's more than just about habits; this book offers a new lens through which to view life itself. \\\"Atomic Habits\\\" goes beyond surface-level advice, challenging you to examine your own motivations and resistances deeply. The personal anecdotes combined with scientific research make it incredibly relatable and grounded in reality\\u2014something many self-help books strive for but few achieve.After reading this book, my perspective on goal setting and achievement has fundamentally changed. Instead of being bogged down by daunting tasks or aspirations, I now see every action as a step towards becoming the version of myself I aspire to be\\u2014a cumulative effect where each small choice matters.\"\n        ],\n        \"semantic_type\": \"\",\n        \"description\": \"\"\n      }\n    }\n  ]\n}"
            }
          },
          "metadata": {},
          "execution_count": 69
        }
      ]
    },
    {
      "cell_type": "markdown",
      "source": [
        "**This step is manadatory,** Either you do not wish to do sentiment analysis and stop after the successful of data scrapping, **YOU SHOULD SAVE YOUR DATA in a csv or EXCEL file**. The reason is that as we are not using any proxy ip, Amazon will eventually detect our browser as a robot and ban of accessing any content. If you use the scrapping process multiple times for multiple projects and face this situation, either you need to change your computer, try later, or buy a service like SOAX to get proxy addresses."
      ],
      "metadata": {
        "id": "8LXCSItNPeve"
      }
    },
    {
      "cell_type": "code",
      "source": [
        "# Save the file as a csv file\n",
        "df2.to_csv(\"CustomerReviews.csv\")"
      ],
      "metadata": {
        "id": "LsXCd5dHa9-Y"
      },
      "execution_count": null,
      "outputs": []
    },
    {
      "cell_type": "code",
      "source": [
        "# Save the file as an excel file\n",
        "df2.to_excel(\"CustomerReviews.xlsx\")\n"
      ],
      "metadata": {
        "id": "it2HhNuzdf-E"
      },
      "execution_count": null,
      "outputs": []
    },
    {
      "cell_type": "code",
      "source": [],
      "metadata": {
        "id": "NF-zEDvORJnN"
      },
      "execution_count": null,
      "outputs": []
    },
    {
      "cell_type": "markdown",
      "source": [
        "# Part Two\n"
      ],
      "metadata": {
        "id": "-ikHfs22RKU4"
      }
    },
    {
      "cell_type": "markdown",
      "source": [
        "### This part has been done as a second part of this project on a different notebook."
      ],
      "metadata": {
        "id": "CmyilfD-XTL2"
      }
    }
  ]
}